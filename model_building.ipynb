{
 "cells": [
  {
   "cell_type": "code",
   "execution_count": 1,
   "metadata": {},
   "outputs": [],
   "source": [
    "import pandas as pd\n",
    "import numpy as np\n",
    "import seaborn as sns\n",
    "import matplotlib.pyplot as plt"
   ]
  },
  {
   "cell_type": "code",
   "execution_count": 2,
   "metadata": {},
   "outputs": [],
   "source": [
    "insurance = pd.read_csv(\"travel insurance.csv\")"
   ]
  },
  {
   "cell_type": "code",
   "execution_count": 3,
   "metadata": {},
   "outputs": [
    {
     "data": {
      "text/html": [
       "<div>\n",
       "<style scoped>\n",
       "    .dataframe tbody tr th:only-of-type {\n",
       "        vertical-align: middle;\n",
       "    }\n",
       "\n",
       "    .dataframe tbody tr th {\n",
       "        vertical-align: top;\n",
       "    }\n",
       "\n",
       "    .dataframe thead th {\n",
       "        text-align: right;\n",
       "    }\n",
       "</style>\n",
       "<table border=\"1\" class=\"dataframe\">\n",
       "  <thead>\n",
       "    <tr style=\"text-align: right;\">\n",
       "      <th></th>\n",
       "      <th>Agency</th>\n",
       "      <th>Agency Type</th>\n",
       "      <th>Distribution Channel</th>\n",
       "      <th>Product Name</th>\n",
       "      <th>Claim</th>\n",
       "      <th>Duration</th>\n",
       "      <th>Destination</th>\n",
       "      <th>Net Sales</th>\n",
       "      <th>Commision (in value)</th>\n",
       "      <th>Gender</th>\n",
       "      <th>Age</th>\n",
       "    </tr>\n",
       "  </thead>\n",
       "  <tbody>\n",
       "    <tr>\n",
       "      <th>38103</th>\n",
       "      <td>C2B</td>\n",
       "      <td>Airlines</td>\n",
       "      <td>Online</td>\n",
       "      <td>Bronze Plan</td>\n",
       "      <td>No</td>\n",
       "      <td>13</td>\n",
       "      <td>SINGAPORE</td>\n",
       "      <td>13.5</td>\n",
       "      <td>3.38</td>\n",
       "      <td>F</td>\n",
       "      <td>55</td>\n",
       "    </tr>\n",
       "    <tr>\n",
       "      <th>57555</th>\n",
       "      <td>C2B</td>\n",
       "      <td>Airlines</td>\n",
       "      <td>Online</td>\n",
       "      <td>Silver Plan</td>\n",
       "      <td>No</td>\n",
       "      <td>10</td>\n",
       "      <td>SINGAPORE</td>\n",
       "      <td>46.8</td>\n",
       "      <td>11.70</td>\n",
       "      <td>M</td>\n",
       "      <td>1</td>\n",
       "    </tr>\n",
       "    <tr>\n",
       "      <th>257</th>\n",
       "      <td>CWT</td>\n",
       "      <td>Travel Agency</td>\n",
       "      <td>Online</td>\n",
       "      <td>Rental Vehicle Excess Insurance</td>\n",
       "      <td>No</td>\n",
       "      <td>40</td>\n",
       "      <td>SOUTH AFRICA</td>\n",
       "      <td>128.7</td>\n",
       "      <td>77.22</td>\n",
       "      <td>NaN</td>\n",
       "      <td>55</td>\n",
       "    </tr>\n",
       "    <tr>\n",
       "      <th>40129</th>\n",
       "      <td>EPX</td>\n",
       "      <td>Travel Agency</td>\n",
       "      <td>Online</td>\n",
       "      <td>2 way Comprehensive Plan</td>\n",
       "      <td>No</td>\n",
       "      <td>57</td>\n",
       "      <td>TAIWAN, PROVINCE OF CHINA</td>\n",
       "      <td>30.0</td>\n",
       "      <td>0.00</td>\n",
       "      <td>NaN</td>\n",
       "      <td>36</td>\n",
       "    </tr>\n",
       "    <tr>\n",
       "      <th>8999</th>\n",
       "      <td>EPX</td>\n",
       "      <td>Travel Agency</td>\n",
       "      <td>Online</td>\n",
       "      <td>2 way Comprehensive Plan</td>\n",
       "      <td>No</td>\n",
       "      <td>15</td>\n",
       "      <td>CAMBODIA</td>\n",
       "      <td>20.0</td>\n",
       "      <td>0.00</td>\n",
       "      <td>NaN</td>\n",
       "      <td>36</td>\n",
       "    </tr>\n",
       "  </tbody>\n",
       "</table>\n",
       "</div>"
      ],
      "text/plain": [
       "      Agency    Agency Type Distribution Channel  \\\n",
       "38103    C2B       Airlines               Online   \n",
       "57555    C2B       Airlines               Online   \n",
       "257      CWT  Travel Agency               Online   \n",
       "40129    EPX  Travel Agency               Online   \n",
       "8999     EPX  Travel Agency               Online   \n",
       "\n",
       "                          Product Name Claim  Duration  \\\n",
       "38103                      Bronze Plan    No        13   \n",
       "57555                      Silver Plan    No        10   \n",
       "257    Rental Vehicle Excess Insurance    No        40   \n",
       "40129         2 way Comprehensive Plan    No        57   \n",
       "8999          2 way Comprehensive Plan    No        15   \n",
       "\n",
       "                     Destination  Net Sales  Commision (in value) Gender  Age  \n",
       "38103                  SINGAPORE       13.5                  3.38      F   55  \n",
       "57555                  SINGAPORE       46.8                 11.70      M    1  \n",
       "257                 SOUTH AFRICA      128.7                 77.22    NaN   55  \n",
       "40129  TAIWAN, PROVINCE OF CHINA       30.0                  0.00    NaN   36  \n",
       "8999                    CAMBODIA       20.0                  0.00    NaN   36  "
      ]
     },
     "execution_count": 3,
     "metadata": {},
     "output_type": "execute_result"
    }
   ],
   "source": [
    "insurance.sample(5)"
   ]
  },
  {
   "cell_type": "code",
   "execution_count": 4,
   "metadata": {},
   "outputs": [
    {
     "name": "stdout",
     "output_type": "stream",
     "text": [
      "<class 'pandas.core.frame.DataFrame'>\n",
      "RangeIndex: 63326 entries, 0 to 63325\n",
      "Data columns (total 11 columns):\n",
      " #   Column                Non-Null Count  Dtype  \n",
      "---  ------                --------------  -----  \n",
      " 0   Agency                63326 non-null  object \n",
      " 1   Agency Type           63326 non-null  object \n",
      " 2   Distribution Channel  63326 non-null  object \n",
      " 3   Product Name          63326 non-null  object \n",
      " 4   Claim                 63326 non-null  object \n",
      " 5   Duration              63326 non-null  int64  \n",
      " 6   Destination           63326 non-null  object \n",
      " 7   Net Sales             63326 non-null  float64\n",
      " 8   Commision (in value)  63326 non-null  float64\n",
      " 9   Gender                18219 non-null  object \n",
      " 10  Age                   63326 non-null  int64  \n",
      "dtypes: float64(2), int64(2), object(7)\n",
      "memory usage: 5.3+ MB\n"
     ]
    }
   ],
   "source": [
    "insurance.info()"
   ]
  },
  {
   "cell_type": "markdown",
   "metadata": {},
   "source": [
    "Data Preprocessing"
   ]
  },
  {
   "cell_type": "markdown",
   "metadata": {},
   "source": [
    "Data Splitting"
   ]
  },
  {
   "cell_type": "code",
   "execution_count": 5,
   "metadata": {},
   "outputs": [],
   "source": [
    "insurance = insurance.sample(frac=1, random_state=51)"
   ]
  },
  {
   "cell_type": "code",
   "execution_count": 6,
   "metadata": {},
   "outputs": [],
   "source": [
    "insurance = insurance.drop_duplicates()"
   ]
  },
  {
   "cell_type": "code",
   "execution_count": 7,
   "metadata": {},
   "outputs": [],
   "source": [
    "insurance.drop([\"Gender\"], axis=1, inplace=True)"
   ]
  },
  {
   "cell_type": "markdown",
   "metadata": {},
   "source": [
    "Rare Labels"
   ]
  },
  {
   "cell_type": "code",
   "execution_count": 8,
   "metadata": {},
   "outputs": [],
   "source": [
    "def group_rare_labels(df, var, amt=0.05):\n",
    "\n",
    "    total = len(df)\n",
    "\n",
    "    # first I calculate the % of houses for each category\n",
    "    temp_df = pd.Series(df[var].value_counts() / total)\n",
    "\n",
    "    # now I create a dictionary to replace the rare labels with the\n",
    "    # string 'rare' if they are present in less than 5% of houses\n",
    "\n",
    "    grouping_dict = {\n",
    "        k: ('rare' if k not in temp_df[temp_df >= amt].index else k)\n",
    "        for k in temp_df.index\n",
    "    }\n",
    "\n",
    "    # now I replace the rare categories\n",
    "    tmp = df[var].map(grouping_dict)\n",
    "\n",
    "    return tmp"
   ]
  },
  {
   "cell_type": "code",
   "execution_count": 9,
   "metadata": {},
   "outputs": [],
   "source": [
    "insurance[\"Product Name\"] = group_rare_labels(insurance, \"Product Name\")\n",
    "insurance[\"Agency Type\"] = group_rare_labels(insurance, \"Agency Type\")"
   ]
  },
  {
   "cell_type": "code",
   "execution_count": 10,
   "metadata": {},
   "outputs": [],
   "source": [
    "from sklearn.model_selection import train_test_split"
   ]
  },
  {
   "cell_type": "code",
   "execution_count": 11,
   "metadata": {},
   "outputs": [],
   "source": [
    "X = insurance.drop(\"Claim\", axis=1)\n",
    "y = insurance[\"Claim\"].map({\"No\": 0, \"Yes\" : 1})"
   ]
  },
  {
   "cell_type": "code",
   "execution_count": 12,
   "metadata": {},
   "outputs": [],
   "source": [
    "insurance, X_test, y_train, y_test = train_test_split(X, y, test_size=0.2, random_state=42, stratify=y)"
   ]
  },
  {
   "cell_type": "markdown",
   "metadata": {},
   "source": [
    "Missing Data"
   ]
  },
  {
   "cell_type": "code",
   "execution_count": 13,
   "metadata": {},
   "outputs": [
    {
     "data": {
      "text/plain": [
       "Agency                  0\n",
       "Agency Type             0\n",
       "Distribution Channel    0\n",
       "Product Name            0\n",
       "Duration                0\n",
       "Destination             0\n",
       "Net Sales               0\n",
       "Commision (in value)    0\n",
       "Age                     0\n",
       "dtype: int64"
      ]
     },
     "execution_count": 13,
     "metadata": {},
     "output_type": "execute_result"
    }
   ],
   "source": [
    "insurance.isna().sum()"
   ]
  },
  {
   "cell_type": "markdown",
   "metadata": {},
   "source": [
    "Outlier Capping"
   ]
  },
  {
   "cell_type": "code",
   "execution_count": 14,
   "metadata": {},
   "outputs": [],
   "source": [
    "from feature_engine.outliers import Winsorizer"
   ]
  },
  {
   "cell_type": "code",
   "execution_count": 15,
   "metadata": {},
   "outputs": [],
   "source": [
    "capper = Winsorizer(variables=[\"Net Sales\", \"Commision (in value)\"])"
   ]
  },
  {
   "cell_type": "code",
   "execution_count": 16,
   "metadata": {},
   "outputs": [
    {
     "data": {
      "text/html": [
       "<style>#sk-container-id-1 {color: black;background-color: white;}#sk-container-id-1 pre{padding: 0;}#sk-container-id-1 div.sk-toggleable {background-color: white;}#sk-container-id-1 label.sk-toggleable__label {cursor: pointer;display: block;width: 100%;margin-bottom: 0;padding: 0.3em;box-sizing: border-box;text-align: center;}#sk-container-id-1 label.sk-toggleable__label-arrow:before {content: \"▸\";float: left;margin-right: 0.25em;color: #696969;}#sk-container-id-1 label.sk-toggleable__label-arrow:hover:before {color: black;}#sk-container-id-1 div.sk-estimator:hover label.sk-toggleable__label-arrow:before {color: black;}#sk-container-id-1 div.sk-toggleable__content {max-height: 0;max-width: 0;overflow: hidden;text-align: left;background-color: #f0f8ff;}#sk-container-id-1 div.sk-toggleable__content pre {margin: 0.2em;color: black;border-radius: 0.25em;background-color: #f0f8ff;}#sk-container-id-1 input.sk-toggleable__control:checked~div.sk-toggleable__content {max-height: 200px;max-width: 100%;overflow: auto;}#sk-container-id-1 input.sk-toggleable__control:checked~label.sk-toggleable__label-arrow:before {content: \"▾\";}#sk-container-id-1 div.sk-estimator input.sk-toggleable__control:checked~label.sk-toggleable__label {background-color: #d4ebff;}#sk-container-id-1 div.sk-label input.sk-toggleable__control:checked~label.sk-toggleable__label {background-color: #d4ebff;}#sk-container-id-1 input.sk-hidden--visually {border: 0;clip: rect(1px 1px 1px 1px);clip: rect(1px, 1px, 1px, 1px);height: 1px;margin: -1px;overflow: hidden;padding: 0;position: absolute;width: 1px;}#sk-container-id-1 div.sk-estimator {font-family: monospace;background-color: #f0f8ff;border: 1px dotted black;border-radius: 0.25em;box-sizing: border-box;margin-bottom: 0.5em;}#sk-container-id-1 div.sk-estimator:hover {background-color: #d4ebff;}#sk-container-id-1 div.sk-parallel-item::after {content: \"\";width: 100%;border-bottom: 1px solid gray;flex-grow: 1;}#sk-container-id-1 div.sk-label:hover label.sk-toggleable__label {background-color: #d4ebff;}#sk-container-id-1 div.sk-serial::before {content: \"\";position: absolute;border-left: 1px solid gray;box-sizing: border-box;top: 0;bottom: 0;left: 50%;z-index: 0;}#sk-container-id-1 div.sk-serial {display: flex;flex-direction: column;align-items: center;background-color: white;padding-right: 0.2em;padding-left: 0.2em;position: relative;}#sk-container-id-1 div.sk-item {position: relative;z-index: 1;}#sk-container-id-1 div.sk-parallel {display: flex;align-items: stretch;justify-content: center;background-color: white;position: relative;}#sk-container-id-1 div.sk-item::before, #sk-container-id-1 div.sk-parallel-item::before {content: \"\";position: absolute;border-left: 1px solid gray;box-sizing: border-box;top: 0;bottom: 0;left: 50%;z-index: -1;}#sk-container-id-1 div.sk-parallel-item {display: flex;flex-direction: column;z-index: 1;position: relative;background-color: white;}#sk-container-id-1 div.sk-parallel-item:first-child::after {align-self: flex-end;width: 50%;}#sk-container-id-1 div.sk-parallel-item:last-child::after {align-self: flex-start;width: 50%;}#sk-container-id-1 div.sk-parallel-item:only-child::after {width: 0;}#sk-container-id-1 div.sk-dashed-wrapped {border: 1px dashed gray;margin: 0 0.4em 0.5em 0.4em;box-sizing: border-box;padding-bottom: 0.4em;background-color: white;}#sk-container-id-1 div.sk-label label {font-family: monospace;font-weight: bold;display: inline-block;line-height: 1.2em;}#sk-container-id-1 div.sk-label-container {text-align: center;}#sk-container-id-1 div.sk-container {/* jupyter's `normalize.less` sets `[hidden] { display: none; }` but bootstrap.min.css set `[hidden] { display: none !important; }` so we also need the `!important` here to be able to override the default hidden behavior on the sphinx rendered scikit-learn.org. See: https://github.com/scikit-learn/scikit-learn/issues/21755 */display: inline-block !important;position: relative;}#sk-container-id-1 div.sk-text-repr-fallback {display: none;}</style><div id=\"sk-container-id-1\" class=\"sk-top-container\"><div class=\"sk-text-repr-fallback\"><pre>Winsorizer(variables=[&#x27;Net Sales&#x27;, &#x27;Commision (in value)&#x27;])</pre><b>In a Jupyter environment, please rerun this cell to show the HTML representation or trust the notebook. <br />On GitHub, the HTML representation is unable to render, please try loading this page with nbviewer.org.</b></div><div class=\"sk-container\" hidden><div class=\"sk-item\"><div class=\"sk-estimator sk-toggleable\"><input class=\"sk-toggleable__control sk-hidden--visually\" id=\"sk-estimator-id-1\" type=\"checkbox\" checked><label for=\"sk-estimator-id-1\" class=\"sk-toggleable__label sk-toggleable__label-arrow\">Winsorizer</label><div class=\"sk-toggleable__content\"><pre>Winsorizer(variables=[&#x27;Net Sales&#x27;, &#x27;Commision (in value)&#x27;])</pre></div></div></div></div></div>"
      ],
      "text/plain": [
       "Winsorizer(variables=['Net Sales', 'Commision (in value)'])"
      ]
     },
     "execution_count": 16,
     "metadata": {},
     "output_type": "execute_result"
    }
   ],
   "source": [
    "capper.fit(insurance)"
   ]
  },
  {
   "cell_type": "code",
   "execution_count": 17,
   "metadata": {},
   "outputs": [],
   "source": [
    "insurance  = capper.transform(insurance)"
   ]
  },
  {
   "cell_type": "markdown",
   "metadata": {},
   "source": [
    "Feature Scaling"
   ]
  },
  {
   "cell_type": "code",
   "execution_count": 18,
   "metadata": {},
   "outputs": [],
   "source": [
    "numerical =['Duration', 'Net Sales', 'Commision (in value)', 'Age']"
   ]
  },
  {
   "cell_type": "code",
   "execution_count": 19,
   "metadata": {},
   "outputs": [],
   "source": [
    "from sklearn.preprocessing import StandardScaler"
   ]
  },
  {
   "cell_type": "code",
   "execution_count": 20,
   "metadata": {},
   "outputs": [],
   "source": [
    "scaler = StandardScaler()"
   ]
  },
  {
   "cell_type": "code",
   "execution_count": 21,
   "metadata": {},
   "outputs": [
    {
     "data": {
      "text/html": [
       "<style>#sk-container-id-2 {color: black;background-color: white;}#sk-container-id-2 pre{padding: 0;}#sk-container-id-2 div.sk-toggleable {background-color: white;}#sk-container-id-2 label.sk-toggleable__label {cursor: pointer;display: block;width: 100%;margin-bottom: 0;padding: 0.3em;box-sizing: border-box;text-align: center;}#sk-container-id-2 label.sk-toggleable__label-arrow:before {content: \"▸\";float: left;margin-right: 0.25em;color: #696969;}#sk-container-id-2 label.sk-toggleable__label-arrow:hover:before {color: black;}#sk-container-id-2 div.sk-estimator:hover label.sk-toggleable__label-arrow:before {color: black;}#sk-container-id-2 div.sk-toggleable__content {max-height: 0;max-width: 0;overflow: hidden;text-align: left;background-color: #f0f8ff;}#sk-container-id-2 div.sk-toggleable__content pre {margin: 0.2em;color: black;border-radius: 0.25em;background-color: #f0f8ff;}#sk-container-id-2 input.sk-toggleable__control:checked~div.sk-toggleable__content {max-height: 200px;max-width: 100%;overflow: auto;}#sk-container-id-2 input.sk-toggleable__control:checked~label.sk-toggleable__label-arrow:before {content: \"▾\";}#sk-container-id-2 div.sk-estimator input.sk-toggleable__control:checked~label.sk-toggleable__label {background-color: #d4ebff;}#sk-container-id-2 div.sk-label input.sk-toggleable__control:checked~label.sk-toggleable__label {background-color: #d4ebff;}#sk-container-id-2 input.sk-hidden--visually {border: 0;clip: rect(1px 1px 1px 1px);clip: rect(1px, 1px, 1px, 1px);height: 1px;margin: -1px;overflow: hidden;padding: 0;position: absolute;width: 1px;}#sk-container-id-2 div.sk-estimator {font-family: monospace;background-color: #f0f8ff;border: 1px dotted black;border-radius: 0.25em;box-sizing: border-box;margin-bottom: 0.5em;}#sk-container-id-2 div.sk-estimator:hover {background-color: #d4ebff;}#sk-container-id-2 div.sk-parallel-item::after {content: \"\";width: 100%;border-bottom: 1px solid gray;flex-grow: 1;}#sk-container-id-2 div.sk-label:hover label.sk-toggleable__label {background-color: #d4ebff;}#sk-container-id-2 div.sk-serial::before {content: \"\";position: absolute;border-left: 1px solid gray;box-sizing: border-box;top: 0;bottom: 0;left: 50%;z-index: 0;}#sk-container-id-2 div.sk-serial {display: flex;flex-direction: column;align-items: center;background-color: white;padding-right: 0.2em;padding-left: 0.2em;position: relative;}#sk-container-id-2 div.sk-item {position: relative;z-index: 1;}#sk-container-id-2 div.sk-parallel {display: flex;align-items: stretch;justify-content: center;background-color: white;position: relative;}#sk-container-id-2 div.sk-item::before, #sk-container-id-2 div.sk-parallel-item::before {content: \"\";position: absolute;border-left: 1px solid gray;box-sizing: border-box;top: 0;bottom: 0;left: 50%;z-index: -1;}#sk-container-id-2 div.sk-parallel-item {display: flex;flex-direction: column;z-index: 1;position: relative;background-color: white;}#sk-container-id-2 div.sk-parallel-item:first-child::after {align-self: flex-end;width: 50%;}#sk-container-id-2 div.sk-parallel-item:last-child::after {align-self: flex-start;width: 50%;}#sk-container-id-2 div.sk-parallel-item:only-child::after {width: 0;}#sk-container-id-2 div.sk-dashed-wrapped {border: 1px dashed gray;margin: 0 0.4em 0.5em 0.4em;box-sizing: border-box;padding-bottom: 0.4em;background-color: white;}#sk-container-id-2 div.sk-label label {font-family: monospace;font-weight: bold;display: inline-block;line-height: 1.2em;}#sk-container-id-2 div.sk-label-container {text-align: center;}#sk-container-id-2 div.sk-container {/* jupyter's `normalize.less` sets `[hidden] { display: none; }` but bootstrap.min.css set `[hidden] { display: none !important; }` so we also need the `!important` here to be able to override the default hidden behavior on the sphinx rendered scikit-learn.org. See: https://github.com/scikit-learn/scikit-learn/issues/21755 */display: inline-block !important;position: relative;}#sk-container-id-2 div.sk-text-repr-fallback {display: none;}</style><div id=\"sk-container-id-2\" class=\"sk-top-container\"><div class=\"sk-text-repr-fallback\"><pre>StandardScaler()</pre><b>In a Jupyter environment, please rerun this cell to show the HTML representation or trust the notebook. <br />On GitHub, the HTML representation is unable to render, please try loading this page with nbviewer.org.</b></div><div class=\"sk-container\" hidden><div class=\"sk-item\"><div class=\"sk-estimator sk-toggleable\"><input class=\"sk-toggleable__control sk-hidden--visually\" id=\"sk-estimator-id-2\" type=\"checkbox\" checked><label for=\"sk-estimator-id-2\" class=\"sk-toggleable__label sk-toggleable__label-arrow\">StandardScaler</label><div class=\"sk-toggleable__content\"><pre>StandardScaler()</pre></div></div></div></div></div>"
      ],
      "text/plain": [
       "StandardScaler()"
      ]
     },
     "execution_count": 21,
     "metadata": {},
     "output_type": "execute_result"
    }
   ],
   "source": [
    "scaler.fit(insurance[numerical])"
   ]
  },
  {
   "cell_type": "code",
   "execution_count": 22,
   "metadata": {},
   "outputs": [],
   "source": [
    "insurance[numerical] = scaler.transform(insurance[numerical])"
   ]
  },
  {
   "cell_type": "markdown",
   "metadata": {},
   "source": [
    "Feature Encoding"
   ]
  },
  {
   "cell_type": "code",
   "execution_count": 23,
   "metadata": {},
   "outputs": [],
   "source": [
    "from feature_engine.encoding import OneHotEncoder"
   ]
  },
  {
   "cell_type": "code",
   "execution_count": 24,
   "metadata": {},
   "outputs": [],
   "source": [
    "encoder = OneHotEncoder()"
   ]
  },
  {
   "cell_type": "code",
   "execution_count": 25,
   "metadata": {},
   "outputs": [
    {
     "data": {
      "text/html": [
       "<style>#sk-container-id-3 {color: black;background-color: white;}#sk-container-id-3 pre{padding: 0;}#sk-container-id-3 div.sk-toggleable {background-color: white;}#sk-container-id-3 label.sk-toggleable__label {cursor: pointer;display: block;width: 100%;margin-bottom: 0;padding: 0.3em;box-sizing: border-box;text-align: center;}#sk-container-id-3 label.sk-toggleable__label-arrow:before {content: \"▸\";float: left;margin-right: 0.25em;color: #696969;}#sk-container-id-3 label.sk-toggleable__label-arrow:hover:before {color: black;}#sk-container-id-3 div.sk-estimator:hover label.sk-toggleable__label-arrow:before {color: black;}#sk-container-id-3 div.sk-toggleable__content {max-height: 0;max-width: 0;overflow: hidden;text-align: left;background-color: #f0f8ff;}#sk-container-id-3 div.sk-toggleable__content pre {margin: 0.2em;color: black;border-radius: 0.25em;background-color: #f0f8ff;}#sk-container-id-3 input.sk-toggleable__control:checked~div.sk-toggleable__content {max-height: 200px;max-width: 100%;overflow: auto;}#sk-container-id-3 input.sk-toggleable__control:checked~label.sk-toggleable__label-arrow:before {content: \"▾\";}#sk-container-id-3 div.sk-estimator input.sk-toggleable__control:checked~label.sk-toggleable__label {background-color: #d4ebff;}#sk-container-id-3 div.sk-label input.sk-toggleable__control:checked~label.sk-toggleable__label {background-color: #d4ebff;}#sk-container-id-3 input.sk-hidden--visually {border: 0;clip: rect(1px 1px 1px 1px);clip: rect(1px, 1px, 1px, 1px);height: 1px;margin: -1px;overflow: hidden;padding: 0;position: absolute;width: 1px;}#sk-container-id-3 div.sk-estimator {font-family: monospace;background-color: #f0f8ff;border: 1px dotted black;border-radius: 0.25em;box-sizing: border-box;margin-bottom: 0.5em;}#sk-container-id-3 div.sk-estimator:hover {background-color: #d4ebff;}#sk-container-id-3 div.sk-parallel-item::after {content: \"\";width: 100%;border-bottom: 1px solid gray;flex-grow: 1;}#sk-container-id-3 div.sk-label:hover label.sk-toggleable__label {background-color: #d4ebff;}#sk-container-id-3 div.sk-serial::before {content: \"\";position: absolute;border-left: 1px solid gray;box-sizing: border-box;top: 0;bottom: 0;left: 50%;z-index: 0;}#sk-container-id-3 div.sk-serial {display: flex;flex-direction: column;align-items: center;background-color: white;padding-right: 0.2em;padding-left: 0.2em;position: relative;}#sk-container-id-3 div.sk-item {position: relative;z-index: 1;}#sk-container-id-3 div.sk-parallel {display: flex;align-items: stretch;justify-content: center;background-color: white;position: relative;}#sk-container-id-3 div.sk-item::before, #sk-container-id-3 div.sk-parallel-item::before {content: \"\";position: absolute;border-left: 1px solid gray;box-sizing: border-box;top: 0;bottom: 0;left: 50%;z-index: -1;}#sk-container-id-3 div.sk-parallel-item {display: flex;flex-direction: column;z-index: 1;position: relative;background-color: white;}#sk-container-id-3 div.sk-parallel-item:first-child::after {align-self: flex-end;width: 50%;}#sk-container-id-3 div.sk-parallel-item:last-child::after {align-self: flex-start;width: 50%;}#sk-container-id-3 div.sk-parallel-item:only-child::after {width: 0;}#sk-container-id-3 div.sk-dashed-wrapped {border: 1px dashed gray;margin: 0 0.4em 0.5em 0.4em;box-sizing: border-box;padding-bottom: 0.4em;background-color: white;}#sk-container-id-3 div.sk-label label {font-family: monospace;font-weight: bold;display: inline-block;line-height: 1.2em;}#sk-container-id-3 div.sk-label-container {text-align: center;}#sk-container-id-3 div.sk-container {/* jupyter's `normalize.less` sets `[hidden] { display: none; }` but bootstrap.min.css set `[hidden] { display: none !important; }` so we also need the `!important` here to be able to override the default hidden behavior on the sphinx rendered scikit-learn.org. See: https://github.com/scikit-learn/scikit-learn/issues/21755 */display: inline-block !important;position: relative;}#sk-container-id-3 div.sk-text-repr-fallback {display: none;}</style><div id=\"sk-container-id-3\" class=\"sk-top-container\"><div class=\"sk-text-repr-fallback\"><pre>OneHotEncoder()</pre><b>In a Jupyter environment, please rerun this cell to show the HTML representation or trust the notebook. <br />On GitHub, the HTML representation is unable to render, please try loading this page with nbviewer.org.</b></div><div class=\"sk-container\" hidden><div class=\"sk-item\"><div class=\"sk-estimator sk-toggleable\"><input class=\"sk-toggleable__control sk-hidden--visually\" id=\"sk-estimator-id-3\" type=\"checkbox\" checked><label for=\"sk-estimator-id-3\" class=\"sk-toggleable__label sk-toggleable__label-arrow\">OneHotEncoder</label><div class=\"sk-toggleable__content\"><pre>OneHotEncoder()</pre></div></div></div></div></div>"
      ],
      "text/plain": [
       "OneHotEncoder()"
      ]
     },
     "execution_count": 25,
     "metadata": {},
     "output_type": "execute_result"
    }
   ],
   "source": [
    "encoder.fit(insurance)"
   ]
  },
  {
   "cell_type": "code",
   "execution_count": 26,
   "metadata": {},
   "outputs": [
    {
     "name": "stderr",
     "output_type": "stream",
     "text": [
      "c:\\Users\\Eyimo\\anaconda3\\lib\\site-packages\\feature_engine\\encoding\\one_hot.py:252: PerformanceWarning: DataFrame is highly fragmented.  This is usually the result of calling `frame.insert` many times, which has poor performance.  Consider joining all columns at once using pd.concat(axis=1) instead. To get a de-fragmented frame, use `newframe = frame.copy()`\n",
      "  X[f\"{feature}_{category}\"] = np.where(X[feature] == category, 1, 0)\n",
      "c:\\Users\\Eyimo\\anaconda3\\lib\\site-packages\\feature_engine\\encoding\\one_hot.py:252: PerformanceWarning: DataFrame is highly fragmented.  This is usually the result of calling `frame.insert` many times, which has poor performance.  Consider joining all columns at once using pd.concat(axis=1) instead. To get a de-fragmented frame, use `newframe = frame.copy()`\n",
      "  X[f\"{feature}_{category}\"] = np.where(X[feature] == category, 1, 0)\n",
      "c:\\Users\\Eyimo\\anaconda3\\lib\\site-packages\\feature_engine\\encoding\\one_hot.py:252: PerformanceWarning: DataFrame is highly fragmented.  This is usually the result of calling `frame.insert` many times, which has poor performance.  Consider joining all columns at once using pd.concat(axis=1) instead. To get a de-fragmented frame, use `newframe = frame.copy()`\n",
      "  X[f\"{feature}_{category}\"] = np.where(X[feature] == category, 1, 0)\n",
      "c:\\Users\\Eyimo\\anaconda3\\lib\\site-packages\\feature_engine\\encoding\\one_hot.py:252: PerformanceWarning: DataFrame is highly fragmented.  This is usually the result of calling `frame.insert` many times, which has poor performance.  Consider joining all columns at once using pd.concat(axis=1) instead. To get a de-fragmented frame, use `newframe = frame.copy()`\n",
      "  X[f\"{feature}_{category}\"] = np.where(X[feature] == category, 1, 0)\n",
      "c:\\Users\\Eyimo\\anaconda3\\lib\\site-packages\\feature_engine\\encoding\\one_hot.py:252: PerformanceWarning: DataFrame is highly fragmented.  This is usually the result of calling `frame.insert` many times, which has poor performance.  Consider joining all columns at once using pd.concat(axis=1) instead. To get a de-fragmented frame, use `newframe = frame.copy()`\n",
      "  X[f\"{feature}_{category}\"] = np.where(X[feature] == category, 1, 0)\n",
      "c:\\Users\\Eyimo\\anaconda3\\lib\\site-packages\\feature_engine\\encoding\\one_hot.py:252: PerformanceWarning: DataFrame is highly fragmented.  This is usually the result of calling `frame.insert` many times, which has poor performance.  Consider joining all columns at once using pd.concat(axis=1) instead. To get a de-fragmented frame, use `newframe = frame.copy()`\n",
      "  X[f\"{feature}_{category}\"] = np.where(X[feature] == category, 1, 0)\n",
      "c:\\Users\\Eyimo\\anaconda3\\lib\\site-packages\\feature_engine\\encoding\\one_hot.py:252: PerformanceWarning: DataFrame is highly fragmented.  This is usually the result of calling `frame.insert` many times, which has poor performance.  Consider joining all columns at once using pd.concat(axis=1) instead. To get a de-fragmented frame, use `newframe = frame.copy()`\n",
      "  X[f\"{feature}_{category}\"] = np.where(X[feature] == category, 1, 0)\n",
      "c:\\Users\\Eyimo\\anaconda3\\lib\\site-packages\\feature_engine\\encoding\\one_hot.py:252: PerformanceWarning: DataFrame is highly fragmented.  This is usually the result of calling `frame.insert` many times, which has poor performance.  Consider joining all columns at once using pd.concat(axis=1) instead. To get a de-fragmented frame, use `newframe = frame.copy()`\n",
      "  X[f\"{feature}_{category}\"] = np.where(X[feature] == category, 1, 0)\n",
      "c:\\Users\\Eyimo\\anaconda3\\lib\\site-packages\\feature_engine\\encoding\\one_hot.py:252: PerformanceWarning: DataFrame is highly fragmented.  This is usually the result of calling `frame.insert` many times, which has poor performance.  Consider joining all columns at once using pd.concat(axis=1) instead. To get a de-fragmented frame, use `newframe = frame.copy()`\n",
      "  X[f\"{feature}_{category}\"] = np.where(X[feature] == category, 1, 0)\n",
      "c:\\Users\\Eyimo\\anaconda3\\lib\\site-packages\\feature_engine\\encoding\\one_hot.py:252: PerformanceWarning: DataFrame is highly fragmented.  This is usually the result of calling `frame.insert` many times, which has poor performance.  Consider joining all columns at once using pd.concat(axis=1) instead. To get a de-fragmented frame, use `newframe = frame.copy()`\n",
      "  X[f\"{feature}_{category}\"] = np.where(X[feature] == category, 1, 0)\n",
      "c:\\Users\\Eyimo\\anaconda3\\lib\\site-packages\\feature_engine\\encoding\\one_hot.py:252: PerformanceWarning: DataFrame is highly fragmented.  This is usually the result of calling `frame.insert` many times, which has poor performance.  Consider joining all columns at once using pd.concat(axis=1) instead. To get a de-fragmented frame, use `newframe = frame.copy()`\n",
      "  X[f\"{feature}_{category}\"] = np.where(X[feature] == category, 1, 0)\n",
      "c:\\Users\\Eyimo\\anaconda3\\lib\\site-packages\\feature_engine\\encoding\\one_hot.py:252: PerformanceWarning: DataFrame is highly fragmented.  This is usually the result of calling `frame.insert` many times, which has poor performance.  Consider joining all columns at once using pd.concat(axis=1) instead. To get a de-fragmented frame, use `newframe = frame.copy()`\n",
      "  X[f\"{feature}_{category}\"] = np.where(X[feature] == category, 1, 0)\n",
      "c:\\Users\\Eyimo\\anaconda3\\lib\\site-packages\\feature_engine\\encoding\\one_hot.py:252: PerformanceWarning: DataFrame is highly fragmented.  This is usually the result of calling `frame.insert` many times, which has poor performance.  Consider joining all columns at once using pd.concat(axis=1) instead. To get a de-fragmented frame, use `newframe = frame.copy()`\n",
      "  X[f\"{feature}_{category}\"] = np.where(X[feature] == category, 1, 0)\n",
      "c:\\Users\\Eyimo\\anaconda3\\lib\\site-packages\\feature_engine\\encoding\\one_hot.py:252: PerformanceWarning: DataFrame is highly fragmented.  This is usually the result of calling `frame.insert` many times, which has poor performance.  Consider joining all columns at once using pd.concat(axis=1) instead. To get a de-fragmented frame, use `newframe = frame.copy()`\n",
      "  X[f\"{feature}_{category}\"] = np.where(X[feature] == category, 1, 0)\n",
      "c:\\Users\\Eyimo\\anaconda3\\lib\\site-packages\\feature_engine\\encoding\\one_hot.py:252: PerformanceWarning: DataFrame is highly fragmented.  This is usually the result of calling `frame.insert` many times, which has poor performance.  Consider joining all columns at once using pd.concat(axis=1) instead. To get a de-fragmented frame, use `newframe = frame.copy()`\n",
      "  X[f\"{feature}_{category}\"] = np.where(X[feature] == category, 1, 0)\n",
      "c:\\Users\\Eyimo\\anaconda3\\lib\\site-packages\\feature_engine\\encoding\\one_hot.py:252: PerformanceWarning: DataFrame is highly fragmented.  This is usually the result of calling `frame.insert` many times, which has poor performance.  Consider joining all columns at once using pd.concat(axis=1) instead. To get a de-fragmented frame, use `newframe = frame.copy()`\n",
      "  X[f\"{feature}_{category}\"] = np.where(X[feature] == category, 1, 0)\n",
      "c:\\Users\\Eyimo\\anaconda3\\lib\\site-packages\\feature_engine\\encoding\\one_hot.py:252: PerformanceWarning: DataFrame is highly fragmented.  This is usually the result of calling `frame.insert` many times, which has poor performance.  Consider joining all columns at once using pd.concat(axis=1) instead. To get a de-fragmented frame, use `newframe = frame.copy()`\n",
      "  X[f\"{feature}_{category}\"] = np.where(X[feature] == category, 1, 0)\n",
      "c:\\Users\\Eyimo\\anaconda3\\lib\\site-packages\\feature_engine\\encoding\\one_hot.py:252: PerformanceWarning: DataFrame is highly fragmented.  This is usually the result of calling `frame.insert` many times, which has poor performance.  Consider joining all columns at once using pd.concat(axis=1) instead. To get a de-fragmented frame, use `newframe = frame.copy()`\n",
      "  X[f\"{feature}_{category}\"] = np.where(X[feature] == category, 1, 0)\n",
      "c:\\Users\\Eyimo\\anaconda3\\lib\\site-packages\\feature_engine\\encoding\\one_hot.py:252: PerformanceWarning: DataFrame is highly fragmented.  This is usually the result of calling `frame.insert` many times, which has poor performance.  Consider joining all columns at once using pd.concat(axis=1) instead. To get a de-fragmented frame, use `newframe = frame.copy()`\n",
      "  X[f\"{feature}_{category}\"] = np.where(X[feature] == category, 1, 0)\n",
      "c:\\Users\\Eyimo\\anaconda3\\lib\\site-packages\\feature_engine\\encoding\\one_hot.py:252: PerformanceWarning: DataFrame is highly fragmented.  This is usually the result of calling `frame.insert` many times, which has poor performance.  Consider joining all columns at once using pd.concat(axis=1) instead. To get a de-fragmented frame, use `newframe = frame.copy()`\n",
      "  X[f\"{feature}_{category}\"] = np.where(X[feature] == category, 1, 0)\n",
      "c:\\Users\\Eyimo\\anaconda3\\lib\\site-packages\\feature_engine\\encoding\\one_hot.py:252: PerformanceWarning: DataFrame is highly fragmented.  This is usually the result of calling `frame.insert` many times, which has poor performance.  Consider joining all columns at once using pd.concat(axis=1) instead. To get a de-fragmented frame, use `newframe = frame.copy()`\n",
      "  X[f\"{feature}_{category}\"] = np.where(X[feature] == category, 1, 0)\n",
      "c:\\Users\\Eyimo\\anaconda3\\lib\\site-packages\\feature_engine\\encoding\\one_hot.py:252: PerformanceWarning: DataFrame is highly fragmented.  This is usually the result of calling `frame.insert` many times, which has poor performance.  Consider joining all columns at once using pd.concat(axis=1) instead. To get a de-fragmented frame, use `newframe = frame.copy()`\n",
      "  X[f\"{feature}_{category}\"] = np.where(X[feature] == category, 1, 0)\n",
      "c:\\Users\\Eyimo\\anaconda3\\lib\\site-packages\\feature_engine\\encoding\\one_hot.py:252: PerformanceWarning: DataFrame is highly fragmented.  This is usually the result of calling `frame.insert` many times, which has poor performance.  Consider joining all columns at once using pd.concat(axis=1) instead. To get a de-fragmented frame, use `newframe = frame.copy()`\n",
      "  X[f\"{feature}_{category}\"] = np.where(X[feature] == category, 1, 0)\n",
      "c:\\Users\\Eyimo\\anaconda3\\lib\\site-packages\\feature_engine\\encoding\\one_hot.py:252: PerformanceWarning: DataFrame is highly fragmented.  This is usually the result of calling `frame.insert` many times, which has poor performance.  Consider joining all columns at once using pd.concat(axis=1) instead. To get a de-fragmented frame, use `newframe = frame.copy()`\n",
      "  X[f\"{feature}_{category}\"] = np.where(X[feature] == category, 1, 0)\n",
      "c:\\Users\\Eyimo\\anaconda3\\lib\\site-packages\\feature_engine\\encoding\\one_hot.py:252: PerformanceWarning: DataFrame is highly fragmented.  This is usually the result of calling `frame.insert` many times, which has poor performance.  Consider joining all columns at once using pd.concat(axis=1) instead. To get a de-fragmented frame, use `newframe = frame.copy()`\n",
      "  X[f\"{feature}_{category}\"] = np.where(X[feature] == category, 1, 0)\n",
      "c:\\Users\\Eyimo\\anaconda3\\lib\\site-packages\\feature_engine\\encoding\\one_hot.py:252: PerformanceWarning: DataFrame is highly fragmented.  This is usually the result of calling `frame.insert` many times, which has poor performance.  Consider joining all columns at once using pd.concat(axis=1) instead. To get a de-fragmented frame, use `newframe = frame.copy()`\n",
      "  X[f\"{feature}_{category}\"] = np.where(X[feature] == category, 1, 0)\n",
      "c:\\Users\\Eyimo\\anaconda3\\lib\\site-packages\\feature_engine\\encoding\\one_hot.py:252: PerformanceWarning: DataFrame is highly fragmented.  This is usually the result of calling `frame.insert` many times, which has poor performance.  Consider joining all columns at once using pd.concat(axis=1) instead. To get a de-fragmented frame, use `newframe = frame.copy()`\n",
      "  X[f\"{feature}_{category}\"] = np.where(X[feature] == category, 1, 0)\n",
      "c:\\Users\\Eyimo\\anaconda3\\lib\\site-packages\\feature_engine\\encoding\\one_hot.py:252: PerformanceWarning: DataFrame is highly fragmented.  This is usually the result of calling `frame.insert` many times, which has poor performance.  Consider joining all columns at once using pd.concat(axis=1) instead. To get a de-fragmented frame, use `newframe = frame.copy()`\n",
      "  X[f\"{feature}_{category}\"] = np.where(X[feature] == category, 1, 0)\n",
      "c:\\Users\\Eyimo\\anaconda3\\lib\\site-packages\\feature_engine\\encoding\\one_hot.py:252: PerformanceWarning: DataFrame is highly fragmented.  This is usually the result of calling `frame.insert` many times, which has poor performance.  Consider joining all columns at once using pd.concat(axis=1) instead. To get a de-fragmented frame, use `newframe = frame.copy()`\n",
      "  X[f\"{feature}_{category}\"] = np.where(X[feature] == category, 1, 0)\n",
      "c:\\Users\\Eyimo\\anaconda3\\lib\\site-packages\\feature_engine\\encoding\\one_hot.py:252: PerformanceWarning: DataFrame is highly fragmented.  This is usually the result of calling `frame.insert` many times, which has poor performance.  Consider joining all columns at once using pd.concat(axis=1) instead. To get a de-fragmented frame, use `newframe = frame.copy()`\n",
      "  X[f\"{feature}_{category}\"] = np.where(X[feature] == category, 1, 0)\n",
      "c:\\Users\\Eyimo\\anaconda3\\lib\\site-packages\\feature_engine\\encoding\\one_hot.py:252: PerformanceWarning: DataFrame is highly fragmented.  This is usually the result of calling `frame.insert` many times, which has poor performance.  Consider joining all columns at once using pd.concat(axis=1) instead. To get a de-fragmented frame, use `newframe = frame.copy()`\n",
      "  X[f\"{feature}_{category}\"] = np.where(X[feature] == category, 1, 0)\n",
      "c:\\Users\\Eyimo\\anaconda3\\lib\\site-packages\\feature_engine\\encoding\\one_hot.py:252: PerformanceWarning: DataFrame is highly fragmented.  This is usually the result of calling `frame.insert` many times, which has poor performance.  Consider joining all columns at once using pd.concat(axis=1) instead. To get a de-fragmented frame, use `newframe = frame.copy()`\n",
      "  X[f\"{feature}_{category}\"] = np.where(X[feature] == category, 1, 0)\n",
      "c:\\Users\\Eyimo\\anaconda3\\lib\\site-packages\\feature_engine\\encoding\\one_hot.py:252: PerformanceWarning: DataFrame is highly fragmented.  This is usually the result of calling `frame.insert` many times, which has poor performance.  Consider joining all columns at once using pd.concat(axis=1) instead. To get a de-fragmented frame, use `newframe = frame.copy()`\n",
      "  X[f\"{feature}_{category}\"] = np.where(X[feature] == category, 1, 0)\n",
      "c:\\Users\\Eyimo\\anaconda3\\lib\\site-packages\\feature_engine\\encoding\\one_hot.py:252: PerformanceWarning: DataFrame is highly fragmented.  This is usually the result of calling `frame.insert` many times, which has poor performance.  Consider joining all columns at once using pd.concat(axis=1) instead. To get a de-fragmented frame, use `newframe = frame.copy()`\n",
      "  X[f\"{feature}_{category}\"] = np.where(X[feature] == category, 1, 0)\n",
      "c:\\Users\\Eyimo\\anaconda3\\lib\\site-packages\\feature_engine\\encoding\\one_hot.py:252: PerformanceWarning: DataFrame is highly fragmented.  This is usually the result of calling `frame.insert` many times, which has poor performance.  Consider joining all columns at once using pd.concat(axis=1) instead. To get a de-fragmented frame, use `newframe = frame.copy()`\n",
      "  X[f\"{feature}_{category}\"] = np.where(X[feature] == category, 1, 0)\n",
      "c:\\Users\\Eyimo\\anaconda3\\lib\\site-packages\\feature_engine\\encoding\\one_hot.py:252: PerformanceWarning: DataFrame is highly fragmented.  This is usually the result of calling `frame.insert` many times, which has poor performance.  Consider joining all columns at once using pd.concat(axis=1) instead. To get a de-fragmented frame, use `newframe = frame.copy()`\n",
      "  X[f\"{feature}_{category}\"] = np.where(X[feature] == category, 1, 0)\n",
      "c:\\Users\\Eyimo\\anaconda3\\lib\\site-packages\\feature_engine\\encoding\\one_hot.py:252: PerformanceWarning: DataFrame is highly fragmented.  This is usually the result of calling `frame.insert` many times, which has poor performance.  Consider joining all columns at once using pd.concat(axis=1) instead. To get a de-fragmented frame, use `newframe = frame.copy()`\n",
      "  X[f\"{feature}_{category}\"] = np.where(X[feature] == category, 1, 0)\n",
      "c:\\Users\\Eyimo\\anaconda3\\lib\\site-packages\\feature_engine\\encoding\\one_hot.py:252: PerformanceWarning: DataFrame is highly fragmented.  This is usually the result of calling `frame.insert` many times, which has poor performance.  Consider joining all columns at once using pd.concat(axis=1) instead. To get a de-fragmented frame, use `newframe = frame.copy()`\n",
      "  X[f\"{feature}_{category}\"] = np.where(X[feature] == category, 1, 0)\n",
      "c:\\Users\\Eyimo\\anaconda3\\lib\\site-packages\\feature_engine\\encoding\\one_hot.py:252: PerformanceWarning: DataFrame is highly fragmented.  This is usually the result of calling `frame.insert` many times, which has poor performance.  Consider joining all columns at once using pd.concat(axis=1) instead. To get a de-fragmented frame, use `newframe = frame.copy()`\n",
      "  X[f\"{feature}_{category}\"] = np.where(X[feature] == category, 1, 0)\n",
      "c:\\Users\\Eyimo\\anaconda3\\lib\\site-packages\\feature_engine\\encoding\\one_hot.py:252: PerformanceWarning: DataFrame is highly fragmented.  This is usually the result of calling `frame.insert` many times, which has poor performance.  Consider joining all columns at once using pd.concat(axis=1) instead. To get a de-fragmented frame, use `newframe = frame.copy()`\n",
      "  X[f\"{feature}_{category}\"] = np.where(X[feature] == category, 1, 0)\n",
      "c:\\Users\\Eyimo\\anaconda3\\lib\\site-packages\\feature_engine\\encoding\\one_hot.py:252: PerformanceWarning: DataFrame is highly fragmented.  This is usually the result of calling `frame.insert` many times, which has poor performance.  Consider joining all columns at once using pd.concat(axis=1) instead. To get a de-fragmented frame, use `newframe = frame.copy()`\n",
      "  X[f\"{feature}_{category}\"] = np.where(X[feature] == category, 1, 0)\n",
      "c:\\Users\\Eyimo\\anaconda3\\lib\\site-packages\\feature_engine\\encoding\\one_hot.py:252: PerformanceWarning: DataFrame is highly fragmented.  This is usually the result of calling `frame.insert` many times, which has poor performance.  Consider joining all columns at once using pd.concat(axis=1) instead. To get a de-fragmented frame, use `newframe = frame.copy()`\n",
      "  X[f\"{feature}_{category}\"] = np.where(X[feature] == category, 1, 0)\n",
      "c:\\Users\\Eyimo\\anaconda3\\lib\\site-packages\\feature_engine\\encoding\\one_hot.py:252: PerformanceWarning: DataFrame is highly fragmented.  This is usually the result of calling `frame.insert` many times, which has poor performance.  Consider joining all columns at once using pd.concat(axis=1) instead. To get a de-fragmented frame, use `newframe = frame.copy()`\n",
      "  X[f\"{feature}_{category}\"] = np.where(X[feature] == category, 1, 0)\n",
      "c:\\Users\\Eyimo\\anaconda3\\lib\\site-packages\\feature_engine\\encoding\\one_hot.py:252: PerformanceWarning: DataFrame is highly fragmented.  This is usually the result of calling `frame.insert` many times, which has poor performance.  Consider joining all columns at once using pd.concat(axis=1) instead. To get a de-fragmented frame, use `newframe = frame.copy()`\n",
      "  X[f\"{feature}_{category}\"] = np.where(X[feature] == category, 1, 0)\n",
      "c:\\Users\\Eyimo\\anaconda3\\lib\\site-packages\\feature_engine\\encoding\\one_hot.py:252: PerformanceWarning: DataFrame is highly fragmented.  This is usually the result of calling `frame.insert` many times, which has poor performance.  Consider joining all columns at once using pd.concat(axis=1) instead. To get a de-fragmented frame, use `newframe = frame.copy()`\n",
      "  X[f\"{feature}_{category}\"] = np.where(X[feature] == category, 1, 0)\n",
      "c:\\Users\\Eyimo\\anaconda3\\lib\\site-packages\\feature_engine\\encoding\\one_hot.py:252: PerformanceWarning: DataFrame is highly fragmented.  This is usually the result of calling `frame.insert` many times, which has poor performance.  Consider joining all columns at once using pd.concat(axis=1) instead. To get a de-fragmented frame, use `newframe = frame.copy()`\n",
      "  X[f\"{feature}_{category}\"] = np.where(X[feature] == category, 1, 0)\n",
      "c:\\Users\\Eyimo\\anaconda3\\lib\\site-packages\\feature_engine\\encoding\\one_hot.py:252: PerformanceWarning: DataFrame is highly fragmented.  This is usually the result of calling `frame.insert` many times, which has poor performance.  Consider joining all columns at once using pd.concat(axis=1) instead. To get a de-fragmented frame, use `newframe = frame.copy()`\n",
      "  X[f\"{feature}_{category}\"] = np.where(X[feature] == category, 1, 0)\n",
      "c:\\Users\\Eyimo\\anaconda3\\lib\\site-packages\\feature_engine\\encoding\\one_hot.py:252: PerformanceWarning: DataFrame is highly fragmented.  This is usually the result of calling `frame.insert` many times, which has poor performance.  Consider joining all columns at once using pd.concat(axis=1) instead. To get a de-fragmented frame, use `newframe = frame.copy()`\n",
      "  X[f\"{feature}_{category}\"] = np.where(X[feature] == category, 1, 0)\n",
      "c:\\Users\\Eyimo\\anaconda3\\lib\\site-packages\\feature_engine\\encoding\\one_hot.py:252: PerformanceWarning: DataFrame is highly fragmented.  This is usually the result of calling `frame.insert` many times, which has poor performance.  Consider joining all columns at once using pd.concat(axis=1) instead. To get a de-fragmented frame, use `newframe = frame.copy()`\n",
      "  X[f\"{feature}_{category}\"] = np.where(X[feature] == category, 1, 0)\n",
      "c:\\Users\\Eyimo\\anaconda3\\lib\\site-packages\\feature_engine\\encoding\\one_hot.py:252: PerformanceWarning: DataFrame is highly fragmented.  This is usually the result of calling `frame.insert` many times, which has poor performance.  Consider joining all columns at once using pd.concat(axis=1) instead. To get a de-fragmented frame, use `newframe = frame.copy()`\n",
      "  X[f\"{feature}_{category}\"] = np.where(X[feature] == category, 1, 0)\n",
      "c:\\Users\\Eyimo\\anaconda3\\lib\\site-packages\\feature_engine\\encoding\\one_hot.py:252: PerformanceWarning: DataFrame is highly fragmented.  This is usually the result of calling `frame.insert` many times, which has poor performance.  Consider joining all columns at once using pd.concat(axis=1) instead. To get a de-fragmented frame, use `newframe = frame.copy()`\n",
      "  X[f\"{feature}_{category}\"] = np.where(X[feature] == category, 1, 0)\n",
      "c:\\Users\\Eyimo\\anaconda3\\lib\\site-packages\\feature_engine\\encoding\\one_hot.py:252: PerformanceWarning: DataFrame is highly fragmented.  This is usually the result of calling `frame.insert` many times, which has poor performance.  Consider joining all columns at once using pd.concat(axis=1) instead. To get a de-fragmented frame, use `newframe = frame.copy()`\n",
      "  X[f\"{feature}_{category}\"] = np.where(X[feature] == category, 1, 0)\n",
      "c:\\Users\\Eyimo\\anaconda3\\lib\\site-packages\\feature_engine\\encoding\\one_hot.py:252: PerformanceWarning: DataFrame is highly fragmented.  This is usually the result of calling `frame.insert` many times, which has poor performance.  Consider joining all columns at once using pd.concat(axis=1) instead. To get a de-fragmented frame, use `newframe = frame.copy()`\n",
      "  X[f\"{feature}_{category}\"] = np.where(X[feature] == category, 1, 0)\n",
      "c:\\Users\\Eyimo\\anaconda3\\lib\\site-packages\\feature_engine\\encoding\\one_hot.py:252: PerformanceWarning: DataFrame is highly fragmented.  This is usually the result of calling `frame.insert` many times, which has poor performance.  Consider joining all columns at once using pd.concat(axis=1) instead. To get a de-fragmented frame, use `newframe = frame.copy()`\n",
      "  X[f\"{feature}_{category}\"] = np.where(X[feature] == category, 1, 0)\n",
      "c:\\Users\\Eyimo\\anaconda3\\lib\\site-packages\\feature_engine\\encoding\\one_hot.py:252: PerformanceWarning: DataFrame is highly fragmented.  This is usually the result of calling `frame.insert` many times, which has poor performance.  Consider joining all columns at once using pd.concat(axis=1) instead. To get a de-fragmented frame, use `newframe = frame.copy()`\n",
      "  X[f\"{feature}_{category}\"] = np.where(X[feature] == category, 1, 0)\n",
      "c:\\Users\\Eyimo\\anaconda3\\lib\\site-packages\\feature_engine\\encoding\\one_hot.py:252: PerformanceWarning: DataFrame is highly fragmented.  This is usually the result of calling `frame.insert` many times, which has poor performance.  Consider joining all columns at once using pd.concat(axis=1) instead. To get a de-fragmented frame, use `newframe = frame.copy()`\n",
      "  X[f\"{feature}_{category}\"] = np.where(X[feature] == category, 1, 0)\n",
      "c:\\Users\\Eyimo\\anaconda3\\lib\\site-packages\\feature_engine\\encoding\\one_hot.py:252: PerformanceWarning: DataFrame is highly fragmented.  This is usually the result of calling `frame.insert` many times, which has poor performance.  Consider joining all columns at once using pd.concat(axis=1) instead. To get a de-fragmented frame, use `newframe = frame.copy()`\n",
      "  X[f\"{feature}_{category}\"] = np.where(X[feature] == category, 1, 0)\n",
      "c:\\Users\\Eyimo\\anaconda3\\lib\\site-packages\\feature_engine\\encoding\\one_hot.py:252: PerformanceWarning: DataFrame is highly fragmented.  This is usually the result of calling `frame.insert` many times, which has poor performance.  Consider joining all columns at once using pd.concat(axis=1) instead. To get a de-fragmented frame, use `newframe = frame.copy()`\n",
      "  X[f\"{feature}_{category}\"] = np.where(X[feature] == category, 1, 0)\n",
      "c:\\Users\\Eyimo\\anaconda3\\lib\\site-packages\\feature_engine\\encoding\\one_hot.py:252: PerformanceWarning: DataFrame is highly fragmented.  This is usually the result of calling `frame.insert` many times, which has poor performance.  Consider joining all columns at once using pd.concat(axis=1) instead. To get a de-fragmented frame, use `newframe = frame.copy()`\n",
      "  X[f\"{feature}_{category}\"] = np.where(X[feature] == category, 1, 0)\n",
      "c:\\Users\\Eyimo\\anaconda3\\lib\\site-packages\\feature_engine\\encoding\\one_hot.py:252: PerformanceWarning: DataFrame is highly fragmented.  This is usually the result of calling `frame.insert` many times, which has poor performance.  Consider joining all columns at once using pd.concat(axis=1) instead. To get a de-fragmented frame, use `newframe = frame.copy()`\n",
      "  X[f\"{feature}_{category}\"] = np.where(X[feature] == category, 1, 0)\n",
      "c:\\Users\\Eyimo\\anaconda3\\lib\\site-packages\\feature_engine\\encoding\\one_hot.py:252: PerformanceWarning: DataFrame is highly fragmented.  This is usually the result of calling `frame.insert` many times, which has poor performance.  Consider joining all columns at once using pd.concat(axis=1) instead. To get a de-fragmented frame, use `newframe = frame.copy()`\n",
      "  X[f\"{feature}_{category}\"] = np.where(X[feature] == category, 1, 0)\n",
      "c:\\Users\\Eyimo\\anaconda3\\lib\\site-packages\\feature_engine\\encoding\\one_hot.py:252: PerformanceWarning: DataFrame is highly fragmented.  This is usually the result of calling `frame.insert` many times, which has poor performance.  Consider joining all columns at once using pd.concat(axis=1) instead. To get a de-fragmented frame, use `newframe = frame.copy()`\n",
      "  X[f\"{feature}_{category}\"] = np.where(X[feature] == category, 1, 0)\n",
      "c:\\Users\\Eyimo\\anaconda3\\lib\\site-packages\\feature_engine\\encoding\\one_hot.py:252: PerformanceWarning: DataFrame is highly fragmented.  This is usually the result of calling `frame.insert` many times, which has poor performance.  Consider joining all columns at once using pd.concat(axis=1) instead. To get a de-fragmented frame, use `newframe = frame.copy()`\n",
      "  X[f\"{feature}_{category}\"] = np.where(X[feature] == category, 1, 0)\n",
      "c:\\Users\\Eyimo\\anaconda3\\lib\\site-packages\\feature_engine\\encoding\\one_hot.py:252: PerformanceWarning: DataFrame is highly fragmented.  This is usually the result of calling `frame.insert` many times, which has poor performance.  Consider joining all columns at once using pd.concat(axis=1) instead. To get a de-fragmented frame, use `newframe = frame.copy()`\n",
      "  X[f\"{feature}_{category}\"] = np.where(X[feature] == category, 1, 0)\n",
      "c:\\Users\\Eyimo\\anaconda3\\lib\\site-packages\\feature_engine\\encoding\\one_hot.py:252: PerformanceWarning: DataFrame is highly fragmented.  This is usually the result of calling `frame.insert` many times, which has poor performance.  Consider joining all columns at once using pd.concat(axis=1) instead. To get a de-fragmented frame, use `newframe = frame.copy()`\n",
      "  X[f\"{feature}_{category}\"] = np.where(X[feature] == category, 1, 0)\n",
      "c:\\Users\\Eyimo\\anaconda3\\lib\\site-packages\\feature_engine\\encoding\\one_hot.py:252: PerformanceWarning: DataFrame is highly fragmented.  This is usually the result of calling `frame.insert` many times, which has poor performance.  Consider joining all columns at once using pd.concat(axis=1) instead. To get a de-fragmented frame, use `newframe = frame.copy()`\n",
      "  X[f\"{feature}_{category}\"] = np.where(X[feature] == category, 1, 0)\n",
      "c:\\Users\\Eyimo\\anaconda3\\lib\\site-packages\\feature_engine\\encoding\\one_hot.py:252: PerformanceWarning: DataFrame is highly fragmented.  This is usually the result of calling `frame.insert` many times, which has poor performance.  Consider joining all columns at once using pd.concat(axis=1) instead. To get a de-fragmented frame, use `newframe = frame.copy()`\n",
      "  X[f\"{feature}_{category}\"] = np.where(X[feature] == category, 1, 0)\n",
      "c:\\Users\\Eyimo\\anaconda3\\lib\\site-packages\\feature_engine\\encoding\\one_hot.py:252: PerformanceWarning: DataFrame is highly fragmented.  This is usually the result of calling `frame.insert` many times, which has poor performance.  Consider joining all columns at once using pd.concat(axis=1) instead. To get a de-fragmented frame, use `newframe = frame.copy()`\n",
      "  X[f\"{feature}_{category}\"] = np.where(X[feature] == category, 1, 0)\n",
      "c:\\Users\\Eyimo\\anaconda3\\lib\\site-packages\\feature_engine\\encoding\\one_hot.py:252: PerformanceWarning: DataFrame is highly fragmented.  This is usually the result of calling `frame.insert` many times, which has poor performance.  Consider joining all columns at once using pd.concat(axis=1) instead. To get a de-fragmented frame, use `newframe = frame.copy()`\n",
      "  X[f\"{feature}_{category}\"] = np.where(X[feature] == category, 1, 0)\n",
      "c:\\Users\\Eyimo\\anaconda3\\lib\\site-packages\\feature_engine\\encoding\\one_hot.py:252: PerformanceWarning: DataFrame is highly fragmented.  This is usually the result of calling `frame.insert` many times, which has poor performance.  Consider joining all columns at once using pd.concat(axis=1) instead. To get a de-fragmented frame, use `newframe = frame.copy()`\n",
      "  X[f\"{feature}_{category}\"] = np.where(X[feature] == category, 1, 0)\n",
      "c:\\Users\\Eyimo\\anaconda3\\lib\\site-packages\\feature_engine\\encoding\\one_hot.py:252: PerformanceWarning: DataFrame is highly fragmented.  This is usually the result of calling `frame.insert` many times, which has poor performance.  Consider joining all columns at once using pd.concat(axis=1) instead. To get a de-fragmented frame, use `newframe = frame.copy()`\n",
      "  X[f\"{feature}_{category}\"] = np.where(X[feature] == category, 1, 0)\n",
      "c:\\Users\\Eyimo\\anaconda3\\lib\\site-packages\\feature_engine\\encoding\\one_hot.py:252: PerformanceWarning: DataFrame is highly fragmented.  This is usually the result of calling `frame.insert` many times, which has poor performance.  Consider joining all columns at once using pd.concat(axis=1) instead. To get a de-fragmented frame, use `newframe = frame.copy()`\n",
      "  X[f\"{feature}_{category}\"] = np.where(X[feature] == category, 1, 0)\n",
      "c:\\Users\\Eyimo\\anaconda3\\lib\\site-packages\\feature_engine\\encoding\\one_hot.py:252: PerformanceWarning: DataFrame is highly fragmented.  This is usually the result of calling `frame.insert` many times, which has poor performance.  Consider joining all columns at once using pd.concat(axis=1) instead. To get a de-fragmented frame, use `newframe = frame.copy()`\n",
      "  X[f\"{feature}_{category}\"] = np.where(X[feature] == category, 1, 0)\n",
      "c:\\Users\\Eyimo\\anaconda3\\lib\\site-packages\\feature_engine\\encoding\\one_hot.py:252: PerformanceWarning: DataFrame is highly fragmented.  This is usually the result of calling `frame.insert` many times, which has poor performance.  Consider joining all columns at once using pd.concat(axis=1) instead. To get a de-fragmented frame, use `newframe = frame.copy()`\n",
      "  X[f\"{feature}_{category}\"] = np.where(X[feature] == category, 1, 0)\n"
     ]
    }
   ],
   "source": [
    "insurance = encoder.transform(insurance);"
   ]
  },
  {
   "attachments": {},
   "cell_type": "markdown",
   "metadata": {},
   "source": [
    "Class Imbalance"
   ]
  },
  {
   "cell_type": "code",
   "execution_count": 27,
   "metadata": {},
   "outputs": [],
   "source": [
    "from imblearn.over_sampling import SMOTE, RandomOverSampler"
   ]
  },
  {
   "cell_type": "code",
   "execution_count": 28,
   "metadata": {},
   "outputs": [],
   "source": [
    "ros = RandomOverSampler(random_state=51)"
   ]
  },
  {
   "cell_type": "code",
   "execution_count": 29,
   "metadata": {},
   "outputs": [],
   "source": [
    "insurance, y_train = ros.fit_resample(insurance, y_train)"
   ]
  },
  {
   "cell_type": "markdown",
   "metadata": {},
   "source": [
    "Model Building"
   ]
  },
  {
   "cell_type": "code",
   "execution_count": 30,
   "metadata": {},
   "outputs": [
    {
     "name": "stderr",
     "output_type": "stream",
     "text": [
      "c:\\Users\\Eyimo\\anaconda3\\lib\\site-packages\\feature_engine\\encoding\\one_hot.py:252: PerformanceWarning: DataFrame is highly fragmented.  This is usually the result of calling `frame.insert` many times, which has poor performance.  Consider joining all columns at once using pd.concat(axis=1) instead. To get a de-fragmented frame, use `newframe = frame.copy()`\n",
      "  X[f\"{feature}_{category}\"] = np.where(X[feature] == category, 1, 0)\n",
      "c:\\Users\\Eyimo\\anaconda3\\lib\\site-packages\\feature_engine\\encoding\\one_hot.py:252: PerformanceWarning: DataFrame is highly fragmented.  This is usually the result of calling `frame.insert` many times, which has poor performance.  Consider joining all columns at once using pd.concat(axis=1) instead. To get a de-fragmented frame, use `newframe = frame.copy()`\n",
      "  X[f\"{feature}_{category}\"] = np.where(X[feature] == category, 1, 0)\n",
      "c:\\Users\\Eyimo\\anaconda3\\lib\\site-packages\\feature_engine\\encoding\\one_hot.py:252: PerformanceWarning: DataFrame is highly fragmented.  This is usually the result of calling `frame.insert` many times, which has poor performance.  Consider joining all columns at once using pd.concat(axis=1) instead. To get a de-fragmented frame, use `newframe = frame.copy()`\n",
      "  X[f\"{feature}_{category}\"] = np.where(X[feature] == category, 1, 0)\n",
      "c:\\Users\\Eyimo\\anaconda3\\lib\\site-packages\\feature_engine\\encoding\\one_hot.py:252: PerformanceWarning: DataFrame is highly fragmented.  This is usually the result of calling `frame.insert` many times, which has poor performance.  Consider joining all columns at once using pd.concat(axis=1) instead. To get a de-fragmented frame, use `newframe = frame.copy()`\n",
      "  X[f\"{feature}_{category}\"] = np.where(X[feature] == category, 1, 0)\n",
      "c:\\Users\\Eyimo\\anaconda3\\lib\\site-packages\\feature_engine\\encoding\\one_hot.py:252: PerformanceWarning: DataFrame is highly fragmented.  This is usually the result of calling `frame.insert` many times, which has poor performance.  Consider joining all columns at once using pd.concat(axis=1) instead. To get a de-fragmented frame, use `newframe = frame.copy()`\n",
      "  X[f\"{feature}_{category}\"] = np.where(X[feature] == category, 1, 0)\n",
      "c:\\Users\\Eyimo\\anaconda3\\lib\\site-packages\\feature_engine\\encoding\\one_hot.py:252: PerformanceWarning: DataFrame is highly fragmented.  This is usually the result of calling `frame.insert` many times, which has poor performance.  Consider joining all columns at once using pd.concat(axis=1) instead. To get a de-fragmented frame, use `newframe = frame.copy()`\n",
      "  X[f\"{feature}_{category}\"] = np.where(X[feature] == category, 1, 0)\n",
      "c:\\Users\\Eyimo\\anaconda3\\lib\\site-packages\\feature_engine\\encoding\\one_hot.py:252: PerformanceWarning: DataFrame is highly fragmented.  This is usually the result of calling `frame.insert` many times, which has poor performance.  Consider joining all columns at once using pd.concat(axis=1) instead. To get a de-fragmented frame, use `newframe = frame.copy()`\n",
      "  X[f\"{feature}_{category}\"] = np.where(X[feature] == category, 1, 0)\n",
      "c:\\Users\\Eyimo\\anaconda3\\lib\\site-packages\\feature_engine\\encoding\\one_hot.py:252: PerformanceWarning: DataFrame is highly fragmented.  This is usually the result of calling `frame.insert` many times, which has poor performance.  Consider joining all columns at once using pd.concat(axis=1) instead. To get a de-fragmented frame, use `newframe = frame.copy()`\n",
      "  X[f\"{feature}_{category}\"] = np.where(X[feature] == category, 1, 0)\n",
      "c:\\Users\\Eyimo\\anaconda3\\lib\\site-packages\\feature_engine\\encoding\\one_hot.py:252: PerformanceWarning: DataFrame is highly fragmented.  This is usually the result of calling `frame.insert` many times, which has poor performance.  Consider joining all columns at once using pd.concat(axis=1) instead. To get a de-fragmented frame, use `newframe = frame.copy()`\n",
      "  X[f\"{feature}_{category}\"] = np.where(X[feature] == category, 1, 0)\n",
      "c:\\Users\\Eyimo\\anaconda3\\lib\\site-packages\\feature_engine\\encoding\\one_hot.py:252: PerformanceWarning: DataFrame is highly fragmented.  This is usually the result of calling `frame.insert` many times, which has poor performance.  Consider joining all columns at once using pd.concat(axis=1) instead. To get a de-fragmented frame, use `newframe = frame.copy()`\n",
      "  X[f\"{feature}_{category}\"] = np.where(X[feature] == category, 1, 0)\n",
      "c:\\Users\\Eyimo\\anaconda3\\lib\\site-packages\\feature_engine\\encoding\\one_hot.py:252: PerformanceWarning: DataFrame is highly fragmented.  This is usually the result of calling `frame.insert` many times, which has poor performance.  Consider joining all columns at once using pd.concat(axis=1) instead. To get a de-fragmented frame, use `newframe = frame.copy()`\n",
      "  X[f\"{feature}_{category}\"] = np.where(X[feature] == category, 1, 0)\n",
      "c:\\Users\\Eyimo\\anaconda3\\lib\\site-packages\\feature_engine\\encoding\\one_hot.py:252: PerformanceWarning: DataFrame is highly fragmented.  This is usually the result of calling `frame.insert` many times, which has poor performance.  Consider joining all columns at once using pd.concat(axis=1) instead. To get a de-fragmented frame, use `newframe = frame.copy()`\n",
      "  X[f\"{feature}_{category}\"] = np.where(X[feature] == category, 1, 0)\n",
      "c:\\Users\\Eyimo\\anaconda3\\lib\\site-packages\\feature_engine\\encoding\\one_hot.py:252: PerformanceWarning: DataFrame is highly fragmented.  This is usually the result of calling `frame.insert` many times, which has poor performance.  Consider joining all columns at once using pd.concat(axis=1) instead. To get a de-fragmented frame, use `newframe = frame.copy()`\n",
      "  X[f\"{feature}_{category}\"] = np.where(X[feature] == category, 1, 0)\n",
      "c:\\Users\\Eyimo\\anaconda3\\lib\\site-packages\\feature_engine\\encoding\\one_hot.py:252: PerformanceWarning: DataFrame is highly fragmented.  This is usually the result of calling `frame.insert` many times, which has poor performance.  Consider joining all columns at once using pd.concat(axis=1) instead. To get a de-fragmented frame, use `newframe = frame.copy()`\n",
      "  X[f\"{feature}_{category}\"] = np.where(X[feature] == category, 1, 0)\n",
      "c:\\Users\\Eyimo\\anaconda3\\lib\\site-packages\\feature_engine\\encoding\\one_hot.py:252: PerformanceWarning: DataFrame is highly fragmented.  This is usually the result of calling `frame.insert` many times, which has poor performance.  Consider joining all columns at once using pd.concat(axis=1) instead. To get a de-fragmented frame, use `newframe = frame.copy()`\n",
      "  X[f\"{feature}_{category}\"] = np.where(X[feature] == category, 1, 0)\n",
      "c:\\Users\\Eyimo\\anaconda3\\lib\\site-packages\\feature_engine\\encoding\\one_hot.py:252: PerformanceWarning: DataFrame is highly fragmented.  This is usually the result of calling `frame.insert` many times, which has poor performance.  Consider joining all columns at once using pd.concat(axis=1) instead. To get a de-fragmented frame, use `newframe = frame.copy()`\n",
      "  X[f\"{feature}_{category}\"] = np.where(X[feature] == category, 1, 0)\n",
      "c:\\Users\\Eyimo\\anaconda3\\lib\\site-packages\\feature_engine\\encoding\\one_hot.py:252: PerformanceWarning: DataFrame is highly fragmented.  This is usually the result of calling `frame.insert` many times, which has poor performance.  Consider joining all columns at once using pd.concat(axis=1) instead. To get a de-fragmented frame, use `newframe = frame.copy()`\n",
      "  X[f\"{feature}_{category}\"] = np.where(X[feature] == category, 1, 0)\n",
      "c:\\Users\\Eyimo\\anaconda3\\lib\\site-packages\\feature_engine\\encoding\\one_hot.py:252: PerformanceWarning: DataFrame is highly fragmented.  This is usually the result of calling `frame.insert` many times, which has poor performance.  Consider joining all columns at once using pd.concat(axis=1) instead. To get a de-fragmented frame, use `newframe = frame.copy()`\n",
      "  X[f\"{feature}_{category}\"] = np.where(X[feature] == category, 1, 0)\n",
      "c:\\Users\\Eyimo\\anaconda3\\lib\\site-packages\\feature_engine\\encoding\\one_hot.py:252: PerformanceWarning: DataFrame is highly fragmented.  This is usually the result of calling `frame.insert` many times, which has poor performance.  Consider joining all columns at once using pd.concat(axis=1) instead. To get a de-fragmented frame, use `newframe = frame.copy()`\n",
      "  X[f\"{feature}_{category}\"] = np.where(X[feature] == category, 1, 0)\n",
      "c:\\Users\\Eyimo\\anaconda3\\lib\\site-packages\\feature_engine\\encoding\\one_hot.py:252: PerformanceWarning: DataFrame is highly fragmented.  This is usually the result of calling `frame.insert` many times, which has poor performance.  Consider joining all columns at once using pd.concat(axis=1) instead. To get a de-fragmented frame, use `newframe = frame.copy()`\n",
      "  X[f\"{feature}_{category}\"] = np.where(X[feature] == category, 1, 0)\n",
      "c:\\Users\\Eyimo\\anaconda3\\lib\\site-packages\\feature_engine\\encoding\\one_hot.py:252: PerformanceWarning: DataFrame is highly fragmented.  This is usually the result of calling `frame.insert` many times, which has poor performance.  Consider joining all columns at once using pd.concat(axis=1) instead. To get a de-fragmented frame, use `newframe = frame.copy()`\n",
      "  X[f\"{feature}_{category}\"] = np.where(X[feature] == category, 1, 0)\n",
      "c:\\Users\\Eyimo\\anaconda3\\lib\\site-packages\\feature_engine\\encoding\\one_hot.py:252: PerformanceWarning: DataFrame is highly fragmented.  This is usually the result of calling `frame.insert` many times, which has poor performance.  Consider joining all columns at once using pd.concat(axis=1) instead. To get a de-fragmented frame, use `newframe = frame.copy()`\n",
      "  X[f\"{feature}_{category}\"] = np.where(X[feature] == category, 1, 0)\n",
      "c:\\Users\\Eyimo\\anaconda3\\lib\\site-packages\\feature_engine\\encoding\\one_hot.py:252: PerformanceWarning: DataFrame is highly fragmented.  This is usually the result of calling `frame.insert` many times, which has poor performance.  Consider joining all columns at once using pd.concat(axis=1) instead. To get a de-fragmented frame, use `newframe = frame.copy()`\n",
      "  X[f\"{feature}_{category}\"] = np.where(X[feature] == category, 1, 0)\n",
      "c:\\Users\\Eyimo\\anaconda3\\lib\\site-packages\\feature_engine\\encoding\\one_hot.py:252: PerformanceWarning: DataFrame is highly fragmented.  This is usually the result of calling `frame.insert` many times, which has poor performance.  Consider joining all columns at once using pd.concat(axis=1) instead. To get a de-fragmented frame, use `newframe = frame.copy()`\n",
      "  X[f\"{feature}_{category}\"] = np.where(X[feature] == category, 1, 0)\n",
      "c:\\Users\\Eyimo\\anaconda3\\lib\\site-packages\\feature_engine\\encoding\\one_hot.py:252: PerformanceWarning: DataFrame is highly fragmented.  This is usually the result of calling `frame.insert` many times, which has poor performance.  Consider joining all columns at once using pd.concat(axis=1) instead. To get a de-fragmented frame, use `newframe = frame.copy()`\n",
      "  X[f\"{feature}_{category}\"] = np.where(X[feature] == category, 1, 0)\n",
      "c:\\Users\\Eyimo\\anaconda3\\lib\\site-packages\\feature_engine\\encoding\\one_hot.py:252: PerformanceWarning: DataFrame is highly fragmented.  This is usually the result of calling `frame.insert` many times, which has poor performance.  Consider joining all columns at once using pd.concat(axis=1) instead. To get a de-fragmented frame, use `newframe = frame.copy()`\n",
      "  X[f\"{feature}_{category}\"] = np.where(X[feature] == category, 1, 0)\n",
      "c:\\Users\\Eyimo\\anaconda3\\lib\\site-packages\\feature_engine\\encoding\\one_hot.py:252: PerformanceWarning: DataFrame is highly fragmented.  This is usually the result of calling `frame.insert` many times, which has poor performance.  Consider joining all columns at once using pd.concat(axis=1) instead. To get a de-fragmented frame, use `newframe = frame.copy()`\n",
      "  X[f\"{feature}_{category}\"] = np.where(X[feature] == category, 1, 0)\n",
      "c:\\Users\\Eyimo\\anaconda3\\lib\\site-packages\\feature_engine\\encoding\\one_hot.py:252: PerformanceWarning: DataFrame is highly fragmented.  This is usually the result of calling `frame.insert` many times, which has poor performance.  Consider joining all columns at once using pd.concat(axis=1) instead. To get a de-fragmented frame, use `newframe = frame.copy()`\n",
      "  X[f\"{feature}_{category}\"] = np.where(X[feature] == category, 1, 0)\n",
      "c:\\Users\\Eyimo\\anaconda3\\lib\\site-packages\\feature_engine\\encoding\\one_hot.py:252: PerformanceWarning: DataFrame is highly fragmented.  This is usually the result of calling `frame.insert` many times, which has poor performance.  Consider joining all columns at once using pd.concat(axis=1) instead. To get a de-fragmented frame, use `newframe = frame.copy()`\n",
      "  X[f\"{feature}_{category}\"] = np.where(X[feature] == category, 1, 0)\n",
      "c:\\Users\\Eyimo\\anaconda3\\lib\\site-packages\\feature_engine\\encoding\\one_hot.py:252: PerformanceWarning: DataFrame is highly fragmented.  This is usually the result of calling `frame.insert` many times, which has poor performance.  Consider joining all columns at once using pd.concat(axis=1) instead. To get a de-fragmented frame, use `newframe = frame.copy()`\n",
      "  X[f\"{feature}_{category}\"] = np.where(X[feature] == category, 1, 0)\n",
      "c:\\Users\\Eyimo\\anaconda3\\lib\\site-packages\\feature_engine\\encoding\\one_hot.py:252: PerformanceWarning: DataFrame is highly fragmented.  This is usually the result of calling `frame.insert` many times, which has poor performance.  Consider joining all columns at once using pd.concat(axis=1) instead. To get a de-fragmented frame, use `newframe = frame.copy()`\n",
      "  X[f\"{feature}_{category}\"] = np.where(X[feature] == category, 1, 0)\n",
      "c:\\Users\\Eyimo\\anaconda3\\lib\\site-packages\\feature_engine\\encoding\\one_hot.py:252: PerformanceWarning: DataFrame is highly fragmented.  This is usually the result of calling `frame.insert` many times, which has poor performance.  Consider joining all columns at once using pd.concat(axis=1) instead. To get a de-fragmented frame, use `newframe = frame.copy()`\n",
      "  X[f\"{feature}_{category}\"] = np.where(X[feature] == category, 1, 0)\n",
      "c:\\Users\\Eyimo\\anaconda3\\lib\\site-packages\\feature_engine\\encoding\\one_hot.py:252: PerformanceWarning: DataFrame is highly fragmented.  This is usually the result of calling `frame.insert` many times, which has poor performance.  Consider joining all columns at once using pd.concat(axis=1) instead. To get a de-fragmented frame, use `newframe = frame.copy()`\n",
      "  X[f\"{feature}_{category}\"] = np.where(X[feature] == category, 1, 0)\n",
      "c:\\Users\\Eyimo\\anaconda3\\lib\\site-packages\\feature_engine\\encoding\\one_hot.py:252: PerformanceWarning: DataFrame is highly fragmented.  This is usually the result of calling `frame.insert` many times, which has poor performance.  Consider joining all columns at once using pd.concat(axis=1) instead. To get a de-fragmented frame, use `newframe = frame.copy()`\n",
      "  X[f\"{feature}_{category}\"] = np.where(X[feature] == category, 1, 0)\n",
      "c:\\Users\\Eyimo\\anaconda3\\lib\\site-packages\\feature_engine\\encoding\\one_hot.py:252: PerformanceWarning: DataFrame is highly fragmented.  This is usually the result of calling `frame.insert` many times, which has poor performance.  Consider joining all columns at once using pd.concat(axis=1) instead. To get a de-fragmented frame, use `newframe = frame.copy()`\n",
      "  X[f\"{feature}_{category}\"] = np.where(X[feature] == category, 1, 0)\n",
      "c:\\Users\\Eyimo\\anaconda3\\lib\\site-packages\\feature_engine\\encoding\\one_hot.py:252: PerformanceWarning: DataFrame is highly fragmented.  This is usually the result of calling `frame.insert` many times, which has poor performance.  Consider joining all columns at once using pd.concat(axis=1) instead. To get a de-fragmented frame, use `newframe = frame.copy()`\n",
      "  X[f\"{feature}_{category}\"] = np.where(X[feature] == category, 1, 0)\n",
      "c:\\Users\\Eyimo\\anaconda3\\lib\\site-packages\\feature_engine\\encoding\\one_hot.py:252: PerformanceWarning: DataFrame is highly fragmented.  This is usually the result of calling `frame.insert` many times, which has poor performance.  Consider joining all columns at once using pd.concat(axis=1) instead. To get a de-fragmented frame, use `newframe = frame.copy()`\n",
      "  X[f\"{feature}_{category}\"] = np.where(X[feature] == category, 1, 0)\n",
      "c:\\Users\\Eyimo\\anaconda3\\lib\\site-packages\\feature_engine\\encoding\\one_hot.py:252: PerformanceWarning: DataFrame is highly fragmented.  This is usually the result of calling `frame.insert` many times, which has poor performance.  Consider joining all columns at once using pd.concat(axis=1) instead. To get a de-fragmented frame, use `newframe = frame.copy()`\n",
      "  X[f\"{feature}_{category}\"] = np.where(X[feature] == category, 1, 0)\n",
      "c:\\Users\\Eyimo\\anaconda3\\lib\\site-packages\\feature_engine\\encoding\\one_hot.py:252: PerformanceWarning: DataFrame is highly fragmented.  This is usually the result of calling `frame.insert` many times, which has poor performance.  Consider joining all columns at once using pd.concat(axis=1) instead. To get a de-fragmented frame, use `newframe = frame.copy()`\n",
      "  X[f\"{feature}_{category}\"] = np.where(X[feature] == category, 1, 0)\n",
      "c:\\Users\\Eyimo\\anaconda3\\lib\\site-packages\\feature_engine\\encoding\\one_hot.py:252: PerformanceWarning: DataFrame is highly fragmented.  This is usually the result of calling `frame.insert` many times, which has poor performance.  Consider joining all columns at once using pd.concat(axis=1) instead. To get a de-fragmented frame, use `newframe = frame.copy()`\n",
      "  X[f\"{feature}_{category}\"] = np.where(X[feature] == category, 1, 0)\n",
      "c:\\Users\\Eyimo\\anaconda3\\lib\\site-packages\\feature_engine\\encoding\\one_hot.py:252: PerformanceWarning: DataFrame is highly fragmented.  This is usually the result of calling `frame.insert` many times, which has poor performance.  Consider joining all columns at once using pd.concat(axis=1) instead. To get a de-fragmented frame, use `newframe = frame.copy()`\n",
      "  X[f\"{feature}_{category}\"] = np.where(X[feature] == category, 1, 0)\n",
      "c:\\Users\\Eyimo\\anaconda3\\lib\\site-packages\\feature_engine\\encoding\\one_hot.py:252: PerformanceWarning: DataFrame is highly fragmented.  This is usually the result of calling `frame.insert` many times, which has poor performance.  Consider joining all columns at once using pd.concat(axis=1) instead. To get a de-fragmented frame, use `newframe = frame.copy()`\n",
      "  X[f\"{feature}_{category}\"] = np.where(X[feature] == category, 1, 0)\n",
      "c:\\Users\\Eyimo\\anaconda3\\lib\\site-packages\\feature_engine\\encoding\\one_hot.py:252: PerformanceWarning: DataFrame is highly fragmented.  This is usually the result of calling `frame.insert` many times, which has poor performance.  Consider joining all columns at once using pd.concat(axis=1) instead. To get a de-fragmented frame, use `newframe = frame.copy()`\n",
      "  X[f\"{feature}_{category}\"] = np.where(X[feature] == category, 1, 0)\n",
      "c:\\Users\\Eyimo\\anaconda3\\lib\\site-packages\\feature_engine\\encoding\\one_hot.py:252: PerformanceWarning: DataFrame is highly fragmented.  This is usually the result of calling `frame.insert` many times, which has poor performance.  Consider joining all columns at once using pd.concat(axis=1) instead. To get a de-fragmented frame, use `newframe = frame.copy()`\n",
      "  X[f\"{feature}_{category}\"] = np.where(X[feature] == category, 1, 0)\n",
      "c:\\Users\\Eyimo\\anaconda3\\lib\\site-packages\\feature_engine\\encoding\\one_hot.py:252: PerformanceWarning: DataFrame is highly fragmented.  This is usually the result of calling `frame.insert` many times, which has poor performance.  Consider joining all columns at once using pd.concat(axis=1) instead. To get a de-fragmented frame, use `newframe = frame.copy()`\n",
      "  X[f\"{feature}_{category}\"] = np.where(X[feature] == category, 1, 0)\n",
      "c:\\Users\\Eyimo\\anaconda3\\lib\\site-packages\\feature_engine\\encoding\\one_hot.py:252: PerformanceWarning: DataFrame is highly fragmented.  This is usually the result of calling `frame.insert` many times, which has poor performance.  Consider joining all columns at once using pd.concat(axis=1) instead. To get a de-fragmented frame, use `newframe = frame.copy()`\n",
      "  X[f\"{feature}_{category}\"] = np.where(X[feature] == category, 1, 0)\n",
      "c:\\Users\\Eyimo\\anaconda3\\lib\\site-packages\\feature_engine\\encoding\\one_hot.py:252: PerformanceWarning: DataFrame is highly fragmented.  This is usually the result of calling `frame.insert` many times, which has poor performance.  Consider joining all columns at once using pd.concat(axis=1) instead. To get a de-fragmented frame, use `newframe = frame.copy()`\n",
      "  X[f\"{feature}_{category}\"] = np.where(X[feature] == category, 1, 0)\n",
      "c:\\Users\\Eyimo\\anaconda3\\lib\\site-packages\\feature_engine\\encoding\\one_hot.py:252: PerformanceWarning: DataFrame is highly fragmented.  This is usually the result of calling `frame.insert` many times, which has poor performance.  Consider joining all columns at once using pd.concat(axis=1) instead. To get a de-fragmented frame, use `newframe = frame.copy()`\n",
      "  X[f\"{feature}_{category}\"] = np.where(X[feature] == category, 1, 0)\n",
      "c:\\Users\\Eyimo\\anaconda3\\lib\\site-packages\\feature_engine\\encoding\\one_hot.py:252: PerformanceWarning: DataFrame is highly fragmented.  This is usually the result of calling `frame.insert` many times, which has poor performance.  Consider joining all columns at once using pd.concat(axis=1) instead. To get a de-fragmented frame, use `newframe = frame.copy()`\n",
      "  X[f\"{feature}_{category}\"] = np.where(X[feature] == category, 1, 0)\n",
      "c:\\Users\\Eyimo\\anaconda3\\lib\\site-packages\\feature_engine\\encoding\\one_hot.py:252: PerformanceWarning: DataFrame is highly fragmented.  This is usually the result of calling `frame.insert` many times, which has poor performance.  Consider joining all columns at once using pd.concat(axis=1) instead. To get a de-fragmented frame, use `newframe = frame.copy()`\n",
      "  X[f\"{feature}_{category}\"] = np.where(X[feature] == category, 1, 0)\n",
      "c:\\Users\\Eyimo\\anaconda3\\lib\\site-packages\\feature_engine\\encoding\\one_hot.py:252: PerformanceWarning: DataFrame is highly fragmented.  This is usually the result of calling `frame.insert` many times, which has poor performance.  Consider joining all columns at once using pd.concat(axis=1) instead. To get a de-fragmented frame, use `newframe = frame.copy()`\n",
      "  X[f\"{feature}_{category}\"] = np.where(X[feature] == category, 1, 0)\n",
      "c:\\Users\\Eyimo\\anaconda3\\lib\\site-packages\\feature_engine\\encoding\\one_hot.py:252: PerformanceWarning: DataFrame is highly fragmented.  This is usually the result of calling `frame.insert` many times, which has poor performance.  Consider joining all columns at once using pd.concat(axis=1) instead. To get a de-fragmented frame, use `newframe = frame.copy()`\n",
      "  X[f\"{feature}_{category}\"] = np.where(X[feature] == category, 1, 0)\n",
      "c:\\Users\\Eyimo\\anaconda3\\lib\\site-packages\\feature_engine\\encoding\\one_hot.py:252: PerformanceWarning: DataFrame is highly fragmented.  This is usually the result of calling `frame.insert` many times, which has poor performance.  Consider joining all columns at once using pd.concat(axis=1) instead. To get a de-fragmented frame, use `newframe = frame.copy()`\n",
      "  X[f\"{feature}_{category}\"] = np.where(X[feature] == category, 1, 0)\n",
      "c:\\Users\\Eyimo\\anaconda3\\lib\\site-packages\\feature_engine\\encoding\\one_hot.py:252: PerformanceWarning: DataFrame is highly fragmented.  This is usually the result of calling `frame.insert` many times, which has poor performance.  Consider joining all columns at once using pd.concat(axis=1) instead. To get a de-fragmented frame, use `newframe = frame.copy()`\n",
      "  X[f\"{feature}_{category}\"] = np.where(X[feature] == category, 1, 0)\n",
      "c:\\Users\\Eyimo\\anaconda3\\lib\\site-packages\\feature_engine\\encoding\\one_hot.py:252: PerformanceWarning: DataFrame is highly fragmented.  This is usually the result of calling `frame.insert` many times, which has poor performance.  Consider joining all columns at once using pd.concat(axis=1) instead. To get a de-fragmented frame, use `newframe = frame.copy()`\n",
      "  X[f\"{feature}_{category}\"] = np.where(X[feature] == category, 1, 0)\n",
      "c:\\Users\\Eyimo\\anaconda3\\lib\\site-packages\\feature_engine\\encoding\\one_hot.py:252: PerformanceWarning: DataFrame is highly fragmented.  This is usually the result of calling `frame.insert` many times, which has poor performance.  Consider joining all columns at once using pd.concat(axis=1) instead. To get a de-fragmented frame, use `newframe = frame.copy()`\n",
      "  X[f\"{feature}_{category}\"] = np.where(X[feature] == category, 1, 0)\n",
      "c:\\Users\\Eyimo\\anaconda3\\lib\\site-packages\\feature_engine\\encoding\\one_hot.py:252: PerformanceWarning: DataFrame is highly fragmented.  This is usually the result of calling `frame.insert` many times, which has poor performance.  Consider joining all columns at once using pd.concat(axis=1) instead. To get a de-fragmented frame, use `newframe = frame.copy()`\n",
      "  X[f\"{feature}_{category}\"] = np.where(X[feature] == category, 1, 0)\n",
      "c:\\Users\\Eyimo\\anaconda3\\lib\\site-packages\\feature_engine\\encoding\\one_hot.py:252: PerformanceWarning: DataFrame is highly fragmented.  This is usually the result of calling `frame.insert` many times, which has poor performance.  Consider joining all columns at once using pd.concat(axis=1) instead. To get a de-fragmented frame, use `newframe = frame.copy()`\n",
      "  X[f\"{feature}_{category}\"] = np.where(X[feature] == category, 1, 0)\n",
      "c:\\Users\\Eyimo\\anaconda3\\lib\\site-packages\\feature_engine\\encoding\\one_hot.py:252: PerformanceWarning: DataFrame is highly fragmented.  This is usually the result of calling `frame.insert` many times, which has poor performance.  Consider joining all columns at once using pd.concat(axis=1) instead. To get a de-fragmented frame, use `newframe = frame.copy()`\n",
      "  X[f\"{feature}_{category}\"] = np.where(X[feature] == category, 1, 0)\n",
      "c:\\Users\\Eyimo\\anaconda3\\lib\\site-packages\\feature_engine\\encoding\\one_hot.py:252: PerformanceWarning: DataFrame is highly fragmented.  This is usually the result of calling `frame.insert` many times, which has poor performance.  Consider joining all columns at once using pd.concat(axis=1) instead. To get a de-fragmented frame, use `newframe = frame.copy()`\n",
      "  X[f\"{feature}_{category}\"] = np.where(X[feature] == category, 1, 0)\n",
      "c:\\Users\\Eyimo\\anaconda3\\lib\\site-packages\\feature_engine\\encoding\\one_hot.py:252: PerformanceWarning: DataFrame is highly fragmented.  This is usually the result of calling `frame.insert` many times, which has poor performance.  Consider joining all columns at once using pd.concat(axis=1) instead. To get a de-fragmented frame, use `newframe = frame.copy()`\n",
      "  X[f\"{feature}_{category}\"] = np.where(X[feature] == category, 1, 0)\n",
      "c:\\Users\\Eyimo\\anaconda3\\lib\\site-packages\\feature_engine\\encoding\\one_hot.py:252: PerformanceWarning: DataFrame is highly fragmented.  This is usually the result of calling `frame.insert` many times, which has poor performance.  Consider joining all columns at once using pd.concat(axis=1) instead. To get a de-fragmented frame, use `newframe = frame.copy()`\n",
      "  X[f\"{feature}_{category}\"] = np.where(X[feature] == category, 1, 0)\n",
      "c:\\Users\\Eyimo\\anaconda3\\lib\\site-packages\\feature_engine\\encoding\\one_hot.py:252: PerformanceWarning: DataFrame is highly fragmented.  This is usually the result of calling `frame.insert` many times, which has poor performance.  Consider joining all columns at once using pd.concat(axis=1) instead. To get a de-fragmented frame, use `newframe = frame.copy()`\n",
      "  X[f\"{feature}_{category}\"] = np.where(X[feature] == category, 1, 0)\n",
      "c:\\Users\\Eyimo\\anaconda3\\lib\\site-packages\\feature_engine\\encoding\\one_hot.py:252: PerformanceWarning: DataFrame is highly fragmented.  This is usually the result of calling `frame.insert` many times, which has poor performance.  Consider joining all columns at once using pd.concat(axis=1) instead. To get a de-fragmented frame, use `newframe = frame.copy()`\n",
      "  X[f\"{feature}_{category}\"] = np.where(X[feature] == category, 1, 0)\n",
      "c:\\Users\\Eyimo\\anaconda3\\lib\\site-packages\\feature_engine\\encoding\\one_hot.py:252: PerformanceWarning: DataFrame is highly fragmented.  This is usually the result of calling `frame.insert` many times, which has poor performance.  Consider joining all columns at once using pd.concat(axis=1) instead. To get a de-fragmented frame, use `newframe = frame.copy()`\n",
      "  X[f\"{feature}_{category}\"] = np.where(X[feature] == category, 1, 0)\n",
      "c:\\Users\\Eyimo\\anaconda3\\lib\\site-packages\\feature_engine\\encoding\\one_hot.py:252: PerformanceWarning: DataFrame is highly fragmented.  This is usually the result of calling `frame.insert` many times, which has poor performance.  Consider joining all columns at once using pd.concat(axis=1) instead. To get a de-fragmented frame, use `newframe = frame.copy()`\n",
      "  X[f\"{feature}_{category}\"] = np.where(X[feature] == category, 1, 0)\n",
      "c:\\Users\\Eyimo\\anaconda3\\lib\\site-packages\\feature_engine\\encoding\\one_hot.py:252: PerformanceWarning: DataFrame is highly fragmented.  This is usually the result of calling `frame.insert` many times, which has poor performance.  Consider joining all columns at once using pd.concat(axis=1) instead. To get a de-fragmented frame, use `newframe = frame.copy()`\n",
      "  X[f\"{feature}_{category}\"] = np.where(X[feature] == category, 1, 0)\n",
      "c:\\Users\\Eyimo\\anaconda3\\lib\\site-packages\\feature_engine\\encoding\\one_hot.py:252: PerformanceWarning: DataFrame is highly fragmented.  This is usually the result of calling `frame.insert` many times, which has poor performance.  Consider joining all columns at once using pd.concat(axis=1) instead. To get a de-fragmented frame, use `newframe = frame.copy()`\n",
      "  X[f\"{feature}_{category}\"] = np.where(X[feature] == category, 1, 0)\n",
      "c:\\Users\\Eyimo\\anaconda3\\lib\\site-packages\\feature_engine\\encoding\\one_hot.py:252: PerformanceWarning: DataFrame is highly fragmented.  This is usually the result of calling `frame.insert` many times, which has poor performance.  Consider joining all columns at once using pd.concat(axis=1) instead. To get a de-fragmented frame, use `newframe = frame.copy()`\n",
      "  X[f\"{feature}_{category}\"] = np.where(X[feature] == category, 1, 0)\n",
      "c:\\Users\\Eyimo\\anaconda3\\lib\\site-packages\\feature_engine\\encoding\\one_hot.py:252: PerformanceWarning: DataFrame is highly fragmented.  This is usually the result of calling `frame.insert` many times, which has poor performance.  Consider joining all columns at once using pd.concat(axis=1) instead. To get a de-fragmented frame, use `newframe = frame.copy()`\n",
      "  X[f\"{feature}_{category}\"] = np.where(X[feature] == category, 1, 0)\n",
      "c:\\Users\\Eyimo\\anaconda3\\lib\\site-packages\\feature_engine\\encoding\\one_hot.py:252: PerformanceWarning: DataFrame is highly fragmented.  This is usually the result of calling `frame.insert` many times, which has poor performance.  Consider joining all columns at once using pd.concat(axis=1) instead. To get a de-fragmented frame, use `newframe = frame.copy()`\n",
      "  X[f\"{feature}_{category}\"] = np.where(X[feature] == category, 1, 0)\n",
      "c:\\Users\\Eyimo\\anaconda3\\lib\\site-packages\\feature_engine\\encoding\\one_hot.py:252: PerformanceWarning: DataFrame is highly fragmented.  This is usually the result of calling `frame.insert` many times, which has poor performance.  Consider joining all columns at once using pd.concat(axis=1) instead. To get a de-fragmented frame, use `newframe = frame.copy()`\n",
      "  X[f\"{feature}_{category}\"] = np.where(X[feature] == category, 1, 0)\n",
      "c:\\Users\\Eyimo\\anaconda3\\lib\\site-packages\\feature_engine\\encoding\\one_hot.py:252: PerformanceWarning: DataFrame is highly fragmented.  This is usually the result of calling `frame.insert` many times, which has poor performance.  Consider joining all columns at once using pd.concat(axis=1) instead. To get a de-fragmented frame, use `newframe = frame.copy()`\n",
      "  X[f\"{feature}_{category}\"] = np.where(X[feature] == category, 1, 0)\n",
      "c:\\Users\\Eyimo\\anaconda3\\lib\\site-packages\\feature_engine\\encoding\\one_hot.py:252: PerformanceWarning: DataFrame is highly fragmented.  This is usually the result of calling `frame.insert` many times, which has poor performance.  Consider joining all columns at once using pd.concat(axis=1) instead. To get a de-fragmented frame, use `newframe = frame.copy()`\n",
      "  X[f\"{feature}_{category}\"] = np.where(X[feature] == category, 1, 0)\n"
     ]
    }
   ],
   "source": [
    "X_test = capper.transform(X_test)\n",
    "X_test[numerical] = scaler.transform(X_test[numerical])\n",
    "X_test = encoder.transform(X_test)"
   ]
  },
  {
   "attachments": {},
   "cell_type": "markdown",
   "metadata": {},
   "source": [
    "LG"
   ]
  },
  {
   "cell_type": "code",
   "execution_count": 31,
   "metadata": {},
   "outputs": [],
   "source": [
    "from sklearn.linear_model import LogisticRegression"
   ]
  },
  {
   "cell_type": "code",
   "execution_count": 32,
   "metadata": {},
   "outputs": [],
   "source": [
    "model = LogisticRegression(max_iter=600)"
   ]
  },
  {
   "cell_type": "code",
   "execution_count": 33,
   "metadata": {},
   "outputs": [],
   "source": [
    "model.fit(insurance, y_train);"
   ]
  },
  {
   "cell_type": "code",
   "execution_count": 34,
   "metadata": {},
   "outputs": [],
   "source": [
    "predictions = model.predict(X_test)"
   ]
  },
  {
   "cell_type": "code",
   "execution_count": 35,
   "metadata": {},
   "outputs": [],
   "source": [
    "from sklearn.metrics import accuracy_score, precision_score, recall_score, f1_score, roc_auc_score, confusion_matrix"
   ]
  },
  {
   "cell_type": "code",
   "execution_count": 36,
   "metadata": {},
   "outputs": [
    {
     "name": "stdout",
     "output_type": "stream",
     "text": [
      "accuracy: 0.7827620511892919\n",
      "precision: 0.0564\n",
      "recall: 0.7663043478260869\n",
      "f1: 0.10506706408345752\n",
      "roc_auc: 0.7746724535046925\n"
     ]
    }
   ],
   "source": [
    "print(f\"accuracy: {accuracy_score(y_test, predictions)}\")\n",
    "print(f\"precision: {precision_score(y_test, predictions)}\")\n",
    "print(f\"recall: {recall_score(y_test, predictions)}\")\n",
    "print(f\"f1: {f1_score(y_test, predictions)}\")\n",
    "print(f\"roc_auc: {roc_auc_score(y_test, predictions)}\")"
   ]
  },
  {
   "cell_type": "code",
   "execution_count": 37,
   "metadata": {},
   "outputs": [
    {
     "data": {
      "image/png": "[encoded data removed]",
      "text/plain": [
       "<Figure size 640x480 with 1 Axes>"
      ]
     },
     "metadata": {},
     "output_type": "display_data"
    }
   ],
   "source": [
    "sns.heatmap(confusion_matrix(y_test, predictions), annot=True, cbar=False, fmt=\"d\");"
   ]
  },
  {
   "cell_type": "markdown",
   "metadata": {},
   "source": [
    "LIghtGBM"
   ]
  },
  {
   "cell_type": "code",
   "execution_count": 38,
   "metadata": {},
   "outputs": [],
   "source": [
    "import re\n",
    "insurance = insurance.rename(columns = lambda x:re.sub('[^A-Za-z0-9_]+', '', x))"
   ]
  },
  {
   "cell_type": "code",
   "execution_count": 39,
   "metadata": {},
   "outputs": [],
   "source": [
    "from lightgbm import LGBMClassifier"
   ]
  },
  {
   "cell_type": "code",
   "execution_count": 40,
   "metadata": {},
   "outputs": [],
   "source": [
    "lgb = LGBMClassifier(random_state=51, n_jobs=-1)"
   ]
  },
  {
   "cell_type": "code",
   "execution_count": 41,
   "metadata": {},
   "outputs": [],
   "source": [
    "lgb.fit(insurance, y_train);"
   ]
  },
  {
   "cell_type": "code",
   "execution_count": 42,
   "metadata": {},
   "outputs": [],
   "source": [
    "predictions = lgb.predict(X_test)"
   ]
  },
  {
   "cell_type": "code",
   "execution_count": 43,
   "metadata": {},
   "outputs": [
    {
     "name": "stdout",
     "output_type": "stream",
     "text": [
      "accuracy: 0.8420005426426698\n",
      "precision: 0.06316377864728899\n",
      "recall: 0.6141304347826086\n",
      "f1: 0.11454637607704005\n",
      "roc_auc: 0.7299935720312382\n"
     ]
    }
   ],
   "source": [
    "print(f\"accuracy: {accuracy_score(y_test, predictions)}\")\n",
    "print(f\"precision: {precision_score(y_test, predictions)}\")\n",
    "print(f\"recall: {recall_score(y_test, predictions)}\")\n",
    "print(f\"f1: {f1_score(y_test, predictions)}\")\n",
    "print(f\"roc_auc: {roc_auc_score(y_test, predictions)}\")"
   ]
  },
  {
   "cell_type": "code",
   "execution_count": 44,
   "metadata": {},
   "outputs": [
    {
     "data": {
      "image/png": "[encoded data removed]",
      "text/plain": [
       "<Figure size 640x480 with 1 Axes>"
      ]
     },
     "metadata": {},
     "output_type": "display_data"
    }
   ],
   "source": [
    "sns.heatmap(confusion_matrix(y_test, predictions), annot=True, cbar=False, fmt=\"d\");"
   ]
  }
 ],
 "metadata": {
  "kernelspec": {
   "display_name": "base",
   "language": "python",
   "name": "python3"
  },
  "language_info": {
   "codemirror_mode": {
    "name": "ipython",
    "version": 3
   },
   "file_extension": ".py",
   "mimetype": "text/x-python",
   "name": "python",
   "nbconvert_exporter": "python",
   "pygments_lexer": "ipython3",
   "version": "3.9.13 (main, Aug 25 2022, 23:51:50) [MSC v.1916 64 bit (AMD64)]"
  },
  "orig_nbformat": 4,
  "vscode": {
   "interpreter": {
    "hash": "a6a1b2dbb3031427df37eac5341fb4b7751d2040259cdbf89f4f38743983c96f"
   }
  }
 },
 "nbformat": 4,
 "nbformat_minor": 2
}
